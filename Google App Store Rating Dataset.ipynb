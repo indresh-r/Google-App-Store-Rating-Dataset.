{
 "cells": [
  {
   "cell_type": "markdown",
   "id": "c63ed83c",
   "metadata": {},
   "source": [
    "# EDA & Data Preprocessing on Google App Store Rating Dataset."
   ]
  },
  {
   "cell_type": "markdown",
   "id": "777ceda0",
   "metadata": {},
   "source": [
    "<span style=\"color:blue\">**Domain**</span>: **Mobile device apps**\n",
    "\n",
    "<span style=\"color:blue\">**Context:**</span>\n",
    "**The Play Store apps data has enormous potential to drive app-making businesses to success. However, many\n",
    "apps are being developed every single day and only a few of them become profitable. It is important for\n",
    "developers to be able to predict the success of their app and incorporate features which makes an app\n",
    "successful. Before any such predictive-study can be done, it is necessary to do EDA and data-preprocessing on\n",
    "the apps data available for google app store applications. From the collected apps data and user ratings from\n",
    "the app stores, let's try to extract insightful information.**\n",
    "\n",
    "<span style=\"color:blue\">**Objective:**</span>\n",
    "**The Goal is to explore the data and pre-process it for future use in any predictive analytics study.**\n",
    "\n",
    "<span style=\"color:blue\">**Data set Information:**</span>\n",
    "**Web scraped data of 10k Play Store apps for analyzing the Android market. Each app (row) has values for\n",
    "category, rating, size, and more.**"
   ]
  },
  {
   "cell_type": "markdown",
   "id": "6ab39655",
   "metadata": {},
   "source": [
    "**1. Import required libraries and read the dataset**"
   ]
  },
  {
   "cell_type": "code",
   "execution_count": 276,
   "id": "219f97ea",
   "metadata": {
    "ExecuteTime": {
     "end_time": "2023-11-30T07:05:39.711903Z",
     "start_time": "2023-11-30T07:05:39.694394Z"
    }
   },
   "outputs": [],
   "source": [
    "import pandas as pd \n",
    "import numpy as np\n",
    "import matplotlib.pyplot as plt\n",
    "import seaborn as sns\n",
    "import os\n",
    "import warnings as wr \n",
    "from sklearn.model_selection import train_test_split\n",
    "from sklearn.preprocessing import StandardScaler\n",
    "from sklearn.linear_model import LogisticRegression\n",
    "from sklearn.metrics import classification_report"
   ]
  },
  {
   "cell_type": "code",
   "execution_count": 127,
   "id": "657e5645",
   "metadata": {
    "ExecuteTime": {
     "end_time": "2023-11-30T03:53:07.880976Z",
     "start_time": "2023-11-30T03:53:07.869542Z"
    }
   },
   "outputs": [],
   "source": [
    "wr.filterwarnings('ignore')"
   ]
  },
  {
   "cell_type": "code",
   "execution_count": 128,
   "id": "c8657fa7",
   "metadata": {
    "ExecuteTime": {
     "end_time": "2023-11-30T03:53:09.245527Z",
     "start_time": "2023-11-30T03:53:09.224614Z"
    }
   },
   "outputs": [
    {
     "data": {
      "text/plain": [
       "'C:\\\\Users\\\\admin'"
      ]
     },
     "execution_count": 128,
     "metadata": {},
     "output_type": "execute_result"
    }
   ],
   "source": [
    "os.getcwd()"
   ]
  },
  {
   "cell_type": "markdown",
   "id": "60974c42",
   "metadata": {},
   "source": [
    "**2. Check the first few samples, shape, info of the data and try to familiarize yourself with different features.**"
   ]
  },
  {
   "cell_type": "code",
   "execution_count": 129,
   "id": "ac6a9da2",
   "metadata": {
    "ExecuteTime": {
     "end_time": "2023-11-30T03:53:15.063768Z",
     "start_time": "2023-11-30T03:53:14.952083Z"
    }
   },
   "outputs": [],
   "source": [
    "df = pd.read_csv('Apps_data+(1).csv')"
   ]
  },
  {
   "cell_type": "code",
   "execution_count": 130,
   "id": "7ca12ba4",
   "metadata": {
    "ExecuteTime": {
     "end_time": "2023-11-30T03:53:16.090879Z",
     "start_time": "2023-11-30T03:53:16.027158Z"
    }
   },
   "outputs": [
    {
     "data": {
      "text/html": [
       "<div>\n",
       "<style scoped>\n",
       "    .dataframe tbody tr th:only-of-type {\n",
       "        vertical-align: middle;\n",
       "    }\n",
       "\n",
       "    .dataframe tbody tr th {\n",
       "        vertical-align: top;\n",
       "    }\n",
       "\n",
       "    .dataframe thead th {\n",
       "        text-align: right;\n",
       "    }\n",
       "</style>\n",
       "<table border=\"1\" class=\"dataframe\">\n",
       "  <thead>\n",
       "    <tr style=\"text-align: right;\">\n",
       "      <th></th>\n",
       "      <th>App</th>\n",
       "      <th>Category</th>\n",
       "      <th>Rating</th>\n",
       "      <th>Reviews</th>\n",
       "      <th>Size</th>\n",
       "      <th>Installs</th>\n",
       "      <th>Type</th>\n",
       "      <th>Price</th>\n",
       "      <th>Content Rating</th>\n",
       "      <th>Genres</th>\n",
       "      <th>Last Updated</th>\n",
       "      <th>Current Ver</th>\n",
       "      <th>Android Ver</th>\n",
       "    </tr>\n",
       "  </thead>\n",
       "  <tbody>\n",
       "    <tr>\n",
       "      <th>0</th>\n",
       "      <td>Photo Editor &amp; Candy Camera &amp; Grid &amp; ScrapBook</td>\n",
       "      <td>ART_AND_DESIGN</td>\n",
       "      <td>4.1</td>\n",
       "      <td>159</td>\n",
       "      <td>19M</td>\n",
       "      <td>10,000+</td>\n",
       "      <td>Free</td>\n",
       "      <td>0</td>\n",
       "      <td>Everyone</td>\n",
       "      <td>Art &amp; Design</td>\n",
       "      <td>January 7, 2018</td>\n",
       "      <td>1.0.0</td>\n",
       "      <td>4.0.3 and up</td>\n",
       "    </tr>\n",
       "    <tr>\n",
       "      <th>1</th>\n",
       "      <td>Coloring book moana</td>\n",
       "      <td>ART_AND_DESIGN</td>\n",
       "      <td>3.9</td>\n",
       "      <td>967</td>\n",
       "      <td>14M</td>\n",
       "      <td>500,000+</td>\n",
       "      <td>Free</td>\n",
       "      <td>0</td>\n",
       "      <td>Everyone</td>\n",
       "      <td>Art &amp; Design;Pretend Play</td>\n",
       "      <td>January 15, 2018</td>\n",
       "      <td>2.0.0</td>\n",
       "      <td>4.0.3 and up</td>\n",
       "    </tr>\n",
       "    <tr>\n",
       "      <th>2</th>\n",
       "      <td>U Launcher Lite – FREE Live Cool Themes, Hide ...</td>\n",
       "      <td>ART_AND_DESIGN</td>\n",
       "      <td>4.7</td>\n",
       "      <td>87510</td>\n",
       "      <td>8.7M</td>\n",
       "      <td>5,000,000+</td>\n",
       "      <td>Free</td>\n",
       "      <td>0</td>\n",
       "      <td>Everyone</td>\n",
       "      <td>Art &amp; Design</td>\n",
       "      <td>August 1, 2018</td>\n",
       "      <td>1.2.4</td>\n",
       "      <td>4.0.3 and up</td>\n",
       "    </tr>\n",
       "    <tr>\n",
       "      <th>3</th>\n",
       "      <td>Sketch - Draw &amp; Paint</td>\n",
       "      <td>ART_AND_DESIGN</td>\n",
       "      <td>4.5</td>\n",
       "      <td>215644</td>\n",
       "      <td>25M</td>\n",
       "      <td>50,000,000+</td>\n",
       "      <td>Free</td>\n",
       "      <td>0</td>\n",
       "      <td>Teen</td>\n",
       "      <td>Art &amp; Design</td>\n",
       "      <td>June 8, 2018</td>\n",
       "      <td>Varies with device</td>\n",
       "      <td>4.2 and up</td>\n",
       "    </tr>\n",
       "    <tr>\n",
       "      <th>4</th>\n",
       "      <td>Pixel Draw - Number Art Coloring Book</td>\n",
       "      <td>ART_AND_DESIGN</td>\n",
       "      <td>4.3</td>\n",
       "      <td>967</td>\n",
       "      <td>2.8M</td>\n",
       "      <td>100,000+</td>\n",
       "      <td>Free</td>\n",
       "      <td>0</td>\n",
       "      <td>Everyone</td>\n",
       "      <td>Art &amp; Design;Creativity</td>\n",
       "      <td>June 20, 2018</td>\n",
       "      <td>1.1</td>\n",
       "      <td>4.4 and up</td>\n",
       "    </tr>\n",
       "  </tbody>\n",
       "</table>\n",
       "</div>"
      ],
      "text/plain": [
       "                                                 App        Category  Rating  \\\n",
       "0     Photo Editor & Candy Camera & Grid & ScrapBook  ART_AND_DESIGN     4.1   \n",
       "1                                Coloring book moana  ART_AND_DESIGN     3.9   \n",
       "2  U Launcher Lite – FREE Live Cool Themes, Hide ...  ART_AND_DESIGN     4.7   \n",
       "3                              Sketch - Draw & Paint  ART_AND_DESIGN     4.5   \n",
       "4              Pixel Draw - Number Art Coloring Book  ART_AND_DESIGN     4.3   \n",
       "\n",
       "  Reviews  Size     Installs  Type Price Content Rating  \\\n",
       "0     159   19M      10,000+  Free     0       Everyone   \n",
       "1     967   14M     500,000+  Free     0       Everyone   \n",
       "2   87510  8.7M   5,000,000+  Free     0       Everyone   \n",
       "3  215644   25M  50,000,000+  Free     0           Teen   \n",
       "4     967  2.8M     100,000+  Free     0       Everyone   \n",
       "\n",
       "                      Genres      Last Updated         Current Ver  \\\n",
       "0               Art & Design   January 7, 2018               1.0.0   \n",
       "1  Art & Design;Pretend Play  January 15, 2018               2.0.0   \n",
       "2               Art & Design    August 1, 2018               1.2.4   \n",
       "3               Art & Design      June 8, 2018  Varies with device   \n",
       "4    Art & Design;Creativity     June 20, 2018                 1.1   \n",
       "\n",
       "    Android Ver  \n",
       "0  4.0.3 and up  \n",
       "1  4.0.3 and up  \n",
       "2  4.0.3 and up  \n",
       "3    4.2 and up  \n",
       "4    4.4 and up  "
      ]
     },
     "execution_count": 130,
     "metadata": {},
     "output_type": "execute_result"
    }
   ],
   "source": [
    "df.head()\n",
    "# first five rows"
   ]
  },
  {
   "cell_type": "code",
   "execution_count": 131,
   "id": "3a295ee0",
   "metadata": {
    "ExecuteTime": {
     "end_time": "2023-11-30T03:53:17.240860Z",
     "start_time": "2023-11-30T03:53:17.165135Z"
    }
   },
   "outputs": [
    {
     "data": {
      "text/html": [
       "<div>\n",
       "<style scoped>\n",
       "    .dataframe tbody tr th:only-of-type {\n",
       "        vertical-align: middle;\n",
       "    }\n",
       "\n",
       "    .dataframe tbody tr th {\n",
       "        vertical-align: top;\n",
       "    }\n",
       "\n",
       "    .dataframe thead th {\n",
       "        text-align: right;\n",
       "    }\n",
       "</style>\n",
       "<table border=\"1\" class=\"dataframe\">\n",
       "  <thead>\n",
       "    <tr style=\"text-align: right;\">\n",
       "      <th></th>\n",
       "      <th>App</th>\n",
       "      <th>Category</th>\n",
       "      <th>Rating</th>\n",
       "      <th>Reviews</th>\n",
       "      <th>Size</th>\n",
       "      <th>Installs</th>\n",
       "      <th>Type</th>\n",
       "      <th>Price</th>\n",
       "      <th>Content Rating</th>\n",
       "      <th>Genres</th>\n",
       "      <th>Last Updated</th>\n",
       "      <th>Current Ver</th>\n",
       "      <th>Android Ver</th>\n",
       "    </tr>\n",
       "  </thead>\n",
       "  <tbody>\n",
       "    <tr>\n",
       "      <th>10836</th>\n",
       "      <td>Sya9a Maroc - FR</td>\n",
       "      <td>FAMILY</td>\n",
       "      <td>4.5</td>\n",
       "      <td>38</td>\n",
       "      <td>53M</td>\n",
       "      <td>5,000+</td>\n",
       "      <td>Free</td>\n",
       "      <td>0</td>\n",
       "      <td>Everyone</td>\n",
       "      <td>Education</td>\n",
       "      <td>July 25, 2017</td>\n",
       "      <td>1.48</td>\n",
       "      <td>4.1 and up</td>\n",
       "    </tr>\n",
       "    <tr>\n",
       "      <th>10837</th>\n",
       "      <td>Fr. Mike Schmitz Audio Teachings</td>\n",
       "      <td>FAMILY</td>\n",
       "      <td>5.0</td>\n",
       "      <td>4</td>\n",
       "      <td>3.6M</td>\n",
       "      <td>100+</td>\n",
       "      <td>Free</td>\n",
       "      <td>0</td>\n",
       "      <td>Everyone</td>\n",
       "      <td>Education</td>\n",
       "      <td>July 6, 2018</td>\n",
       "      <td>1.0</td>\n",
       "      <td>4.1 and up</td>\n",
       "    </tr>\n",
       "    <tr>\n",
       "      <th>10838</th>\n",
       "      <td>Parkinson Exercices FR</td>\n",
       "      <td>MEDICAL</td>\n",
       "      <td>NaN</td>\n",
       "      <td>3</td>\n",
       "      <td>9.5M</td>\n",
       "      <td>1,000+</td>\n",
       "      <td>Free</td>\n",
       "      <td>0</td>\n",
       "      <td>Everyone</td>\n",
       "      <td>Medical</td>\n",
       "      <td>January 20, 2017</td>\n",
       "      <td>1.0</td>\n",
       "      <td>2.2 and up</td>\n",
       "    </tr>\n",
       "    <tr>\n",
       "      <th>10839</th>\n",
       "      <td>The SCP Foundation DB fr nn5n</td>\n",
       "      <td>BOOKS_AND_REFERENCE</td>\n",
       "      <td>4.5</td>\n",
       "      <td>114</td>\n",
       "      <td>Varies with device</td>\n",
       "      <td>1,000+</td>\n",
       "      <td>Free</td>\n",
       "      <td>0</td>\n",
       "      <td>Mature 17+</td>\n",
       "      <td>Books &amp; Reference</td>\n",
       "      <td>January 19, 2015</td>\n",
       "      <td>Varies with device</td>\n",
       "      <td>Varies with device</td>\n",
       "    </tr>\n",
       "    <tr>\n",
       "      <th>10840</th>\n",
       "      <td>iHoroscope - 2018 Daily Horoscope &amp; Astrology</td>\n",
       "      <td>LIFESTYLE</td>\n",
       "      <td>4.5</td>\n",
       "      <td>398307</td>\n",
       "      <td>19M</td>\n",
       "      <td>10,000,000+</td>\n",
       "      <td>Free</td>\n",
       "      <td>0</td>\n",
       "      <td>Everyone</td>\n",
       "      <td>Lifestyle</td>\n",
       "      <td>July 25, 2018</td>\n",
       "      <td>Varies with device</td>\n",
       "      <td>Varies with device</td>\n",
       "    </tr>\n",
       "  </tbody>\n",
       "</table>\n",
       "</div>"
      ],
      "text/plain": [
       "                                                 App             Category  \\\n",
       "10836                               Sya9a Maroc - FR               FAMILY   \n",
       "10837               Fr. Mike Schmitz Audio Teachings               FAMILY   \n",
       "10838                         Parkinson Exercices FR              MEDICAL   \n",
       "10839                  The SCP Foundation DB fr nn5n  BOOKS_AND_REFERENCE   \n",
       "10840  iHoroscope - 2018 Daily Horoscope & Astrology            LIFESTYLE   \n",
       "\n",
       "       Rating Reviews                Size     Installs  Type Price  \\\n",
       "10836     4.5      38                 53M       5,000+  Free     0   \n",
       "10837     5.0       4                3.6M         100+  Free     0   \n",
       "10838     NaN       3                9.5M       1,000+  Free     0   \n",
       "10839     4.5     114  Varies with device       1,000+  Free     0   \n",
       "10840     4.5  398307                 19M  10,000,000+  Free     0   \n",
       "\n",
       "      Content Rating             Genres      Last Updated         Current Ver  \\\n",
       "10836       Everyone          Education     July 25, 2017                1.48   \n",
       "10837       Everyone          Education      July 6, 2018                 1.0   \n",
       "10838       Everyone            Medical  January 20, 2017                 1.0   \n",
       "10839     Mature 17+  Books & Reference  January 19, 2015  Varies with device   \n",
       "10840       Everyone          Lifestyle     July 25, 2018  Varies with device   \n",
       "\n",
       "              Android Ver  \n",
       "10836          4.1 and up  \n",
       "10837          4.1 and up  \n",
       "10838          2.2 and up  \n",
       "10839  Varies with device  \n",
       "10840  Varies with device  "
      ]
     },
     "execution_count": 131,
     "metadata": {},
     "output_type": "execute_result"
    }
   ],
   "source": [
    "# last five rows\n",
    "df.tail()"
   ]
  },
  {
   "cell_type": "code",
   "execution_count": 132,
   "id": "0f301bb5",
   "metadata": {
    "ExecuteTime": {
     "end_time": "2023-11-30T03:53:18.289143Z",
     "start_time": "2023-11-30T03:53:18.206125Z"
    }
   },
   "outputs": [
    {
     "data": {
      "text/html": [
       "<div>\n",
       "<style scoped>\n",
       "    .dataframe tbody tr th:only-of-type {\n",
       "        vertical-align: middle;\n",
       "    }\n",
       "\n",
       "    .dataframe tbody tr th {\n",
       "        vertical-align: top;\n",
       "    }\n",
       "\n",
       "    .dataframe thead th {\n",
       "        text-align: right;\n",
       "    }\n",
       "</style>\n",
       "<table border=\"1\" class=\"dataframe\">\n",
       "  <thead>\n",
       "    <tr style=\"text-align: right;\">\n",
       "      <th></th>\n",
       "      <th>App</th>\n",
       "      <th>Category</th>\n",
       "      <th>Rating</th>\n",
       "      <th>Reviews</th>\n",
       "      <th>Size</th>\n",
       "      <th>Installs</th>\n",
       "      <th>Type</th>\n",
       "      <th>Price</th>\n",
       "      <th>Content Rating</th>\n",
       "      <th>Genres</th>\n",
       "      <th>Last Updated</th>\n",
       "      <th>Current Ver</th>\n",
       "      <th>Android Ver</th>\n",
       "    </tr>\n",
       "  </thead>\n",
       "  <tbody>\n",
       "    <tr>\n",
       "      <th>4213</th>\n",
       "      <td>My Android Device S/W &amp; H/W</td>\n",
       "      <td>FAMILY</td>\n",
       "      <td>4.5</td>\n",
       "      <td>681</td>\n",
       "      <td>2.8M</td>\n",
       "      <td>50,000+</td>\n",
       "      <td>Free</td>\n",
       "      <td>0</td>\n",
       "      <td>Everyone</td>\n",
       "      <td>Education</td>\n",
       "      <td>November 20, 2015</td>\n",
       "      <td>1.1</td>\n",
       "      <td>2.3 and up</td>\n",
       "    </tr>\n",
       "    <tr>\n",
       "      <th>2251</th>\n",
       "      <td>Human Anatomy Atlas 2018: Complete 3D Human Body</td>\n",
       "      <td>MEDICAL</td>\n",
       "      <td>4.5</td>\n",
       "      <td>2921</td>\n",
       "      <td>25M</td>\n",
       "      <td>100,000+</td>\n",
       "      <td>Paid</td>\n",
       "      <td>$24.99</td>\n",
       "      <td>Everyone</td>\n",
       "      <td>Medical</td>\n",
       "      <td>May 25, 2018</td>\n",
       "      <td>2018.5.47</td>\n",
       "      <td>5.0 and up</td>\n",
       "    </tr>\n",
       "    <tr>\n",
       "      <th>9390</th>\n",
       "      <td>US Army Training Courses Game</td>\n",
       "      <td>FAMILY</td>\n",
       "      <td>4.1</td>\n",
       "      <td>27130</td>\n",
       "      <td>35M</td>\n",
       "      <td>5,000,000+</td>\n",
       "      <td>Free</td>\n",
       "      <td>0</td>\n",
       "      <td>Everyone</td>\n",
       "      <td>Simulation</td>\n",
       "      <td>December 8, 2017</td>\n",
       "      <td>1.4</td>\n",
       "      <td>2.3 and up</td>\n",
       "    </tr>\n",
       "    <tr>\n",
       "      <th>8336</th>\n",
       "      <td>DF-Server Mobile</td>\n",
       "      <td>PRODUCTIVITY</td>\n",
       "      <td>4.9</td>\n",
       "      <td>17</td>\n",
       "      <td>76M</td>\n",
       "      <td>100+</td>\n",
       "      <td>Free</td>\n",
       "      <td>0</td>\n",
       "      <td>Everyone</td>\n",
       "      <td>Productivity</td>\n",
       "      <td>June 7, 2016</td>\n",
       "      <td>1.0.0</td>\n",
       "      <td>4.4 and up</td>\n",
       "    </tr>\n",
       "    <tr>\n",
       "      <th>3183</th>\n",
       "      <td>Hopper - Watch &amp; Book Flights</td>\n",
       "      <td>TRAVEL_AND_LOCAL</td>\n",
       "      <td>4.4</td>\n",
       "      <td>52028</td>\n",
       "      <td>Varies with device</td>\n",
       "      <td>5,000,000+</td>\n",
       "      <td>Free</td>\n",
       "      <td>0</td>\n",
       "      <td>Everyone</td>\n",
       "      <td>Travel &amp; Local</td>\n",
       "      <td>June 29, 2018</td>\n",
       "      <td>Varies with device</td>\n",
       "      <td>5.0 and up</td>\n",
       "    </tr>\n",
       "  </tbody>\n",
       "</table>\n",
       "</div>"
      ],
      "text/plain": [
       "                                                   App          Category  \\\n",
       "4213                       My Android Device S/W & H/W            FAMILY   \n",
       "2251  Human Anatomy Atlas 2018: Complete 3D Human Body           MEDICAL   \n",
       "9390                     US Army Training Courses Game            FAMILY   \n",
       "8336                                  DF-Server Mobile      PRODUCTIVITY   \n",
       "3183                     Hopper - Watch & Book Flights  TRAVEL_AND_LOCAL   \n",
       "\n",
       "      Rating Reviews                Size    Installs  Type   Price  \\\n",
       "4213     4.5     681                2.8M     50,000+  Free       0   \n",
       "2251     4.5    2921                 25M    100,000+  Paid  $24.99   \n",
       "9390     4.1   27130                 35M  5,000,000+  Free       0   \n",
       "8336     4.9      17                 76M        100+  Free       0   \n",
       "3183     4.4   52028  Varies with device  5,000,000+  Free       0   \n",
       "\n",
       "     Content Rating          Genres       Last Updated         Current Ver  \\\n",
       "4213       Everyone       Education  November 20, 2015                 1.1   \n",
       "2251       Everyone         Medical       May 25, 2018           2018.5.47   \n",
       "9390       Everyone      Simulation   December 8, 2017                 1.4   \n",
       "8336       Everyone    Productivity       June 7, 2016               1.0.0   \n",
       "3183       Everyone  Travel & Local      June 29, 2018  Varies with device   \n",
       "\n",
       "     Android Ver  \n",
       "4213  2.3 and up  \n",
       "2251  5.0 and up  \n",
       "9390  2.3 and up  \n",
       "8336  4.4 and up  \n",
       "3183  5.0 and up  "
      ]
     },
     "execution_count": 132,
     "metadata": {},
     "output_type": "execute_result"
    }
   ],
   "source": [
    "#selecting randomly 5 rows\n",
    "df.sample(5)"
   ]
  },
  {
   "cell_type": "code",
   "execution_count": 133,
   "id": "8dece853",
   "metadata": {
    "ExecuteTime": {
     "end_time": "2023-11-30T03:53:19.384151Z",
     "start_time": "2023-11-30T03:53:19.317759Z"
    }
   },
   "outputs": [
    {
     "name": "stdout",
     "output_type": "stream",
     "text": [
      "the shape of the apps dataset is:  (10841, 13)\n",
      "                                                  \n",
      "<class 'pandas.core.frame.DataFrame'>\n",
      "RangeIndex: 10841 entries, 0 to 10840\n",
      "Data columns (total 13 columns):\n",
      " #   Column          Non-Null Count  Dtype  \n",
      "---  ------          --------------  -----  \n",
      " 0   App             10841 non-null  object \n",
      " 1   Category        10841 non-null  object \n",
      " 2   Rating          9367 non-null   float64\n",
      " 3   Reviews         10841 non-null  object \n",
      " 4   Size            10841 non-null  object \n",
      " 5   Installs        10841 non-null  object \n",
      " 6   Type            10840 non-null  object \n",
      " 7   Price           10841 non-null  object \n",
      " 8   Content Rating  10840 non-null  object \n",
      " 9   Genres          10841 non-null  object \n",
      " 10  Last Updated    10841 non-null  object \n",
      " 11  Current Ver     10833 non-null  object \n",
      " 12  Android Ver     10838 non-null  object \n",
      "dtypes: float64(1), object(12)\n",
      "memory usage: 1.1+ MB\n",
      "None\n"
     ]
    }
   ],
   "source": [
    "#shape of the data \n",
    "print('the shape of the apps dataset is: ',df.shape)\n",
    "print('                                                  ')\n",
    "print(df.info())"
   ]
  },
  {
   "cell_type": "markdown",
   "id": "e5e40077",
   "metadata": {},
   "source": [
    "**3. Check summary statistics of the dataset. List out the columns that need to be worked upon for model\n",
    "building.**"
   ]
  },
  {
   "cell_type": "code",
   "execution_count": 134,
   "id": "124ff8fd",
   "metadata": {
    "ExecuteTime": {
     "end_time": "2023-11-30T03:53:21.652039Z",
     "start_time": "2023-11-30T03:53:21.602635Z"
    }
   },
   "outputs": [
    {
     "data": {
      "text/html": [
       "<div>\n",
       "<style scoped>\n",
       "    .dataframe tbody tr th:only-of-type {\n",
       "        vertical-align: middle;\n",
       "    }\n",
       "\n",
       "    .dataframe tbody tr th {\n",
       "        vertical-align: top;\n",
       "    }\n",
       "\n",
       "    .dataframe thead th {\n",
       "        text-align: right;\n",
       "    }\n",
       "</style>\n",
       "<table border=\"1\" class=\"dataframe\">\n",
       "  <thead>\n",
       "    <tr style=\"text-align: right;\">\n",
       "      <th></th>\n",
       "      <th>Rating</th>\n",
       "    </tr>\n",
       "  </thead>\n",
       "  <tbody>\n",
       "    <tr>\n",
       "      <th>count</th>\n",
       "      <td>9367.000000</td>\n",
       "    </tr>\n",
       "    <tr>\n",
       "      <th>mean</th>\n",
       "      <td>4.193338</td>\n",
       "    </tr>\n",
       "    <tr>\n",
       "      <th>std</th>\n",
       "      <td>0.537431</td>\n",
       "    </tr>\n",
       "    <tr>\n",
       "      <th>min</th>\n",
       "      <td>1.000000</td>\n",
       "    </tr>\n",
       "    <tr>\n",
       "      <th>25%</th>\n",
       "      <td>4.000000</td>\n",
       "    </tr>\n",
       "    <tr>\n",
       "      <th>50%</th>\n",
       "      <td>4.300000</td>\n",
       "    </tr>\n",
       "    <tr>\n",
       "      <th>75%</th>\n",
       "      <td>4.500000</td>\n",
       "    </tr>\n",
       "    <tr>\n",
       "      <th>max</th>\n",
       "      <td>19.000000</td>\n",
       "    </tr>\n",
       "  </tbody>\n",
       "</table>\n",
       "</div>"
      ],
      "text/plain": [
       "            Rating\n",
       "count  9367.000000\n",
       "mean      4.193338\n",
       "std       0.537431\n",
       "min       1.000000\n",
       "25%       4.000000\n",
       "50%       4.300000\n",
       "75%       4.500000\n",
       "max      19.000000"
      ]
     },
     "execution_count": 134,
     "metadata": {},
     "output_type": "execute_result"
    }
   ],
   "source": [
    "df.describe()"
   ]
  },
  {
   "cell_type": "code",
   "execution_count": 135,
   "id": "d5dbf116",
   "metadata": {
    "ExecuteTime": {
     "end_time": "2023-11-30T03:53:22.841261Z",
     "start_time": "2023-11-30T03:53:22.641863Z"
    }
   },
   "outputs": [
    {
     "data": {
      "text/html": [
       "<div>\n",
       "<style scoped>\n",
       "    .dataframe tbody tr th:only-of-type {\n",
       "        vertical-align: middle;\n",
       "    }\n",
       "\n",
       "    .dataframe tbody tr th {\n",
       "        vertical-align: top;\n",
       "    }\n",
       "\n",
       "    .dataframe thead th {\n",
       "        text-align: right;\n",
       "    }\n",
       "</style>\n",
       "<table border=\"1\" class=\"dataframe\">\n",
       "  <thead>\n",
       "    <tr style=\"text-align: right;\">\n",
       "      <th></th>\n",
       "      <th>count</th>\n",
       "      <th>unique</th>\n",
       "      <th>top</th>\n",
       "      <th>freq</th>\n",
       "    </tr>\n",
       "  </thead>\n",
       "  <tbody>\n",
       "    <tr>\n",
       "      <th>App</th>\n",
       "      <td>10841</td>\n",
       "      <td>9660</td>\n",
       "      <td>ROBLOX</td>\n",
       "      <td>9</td>\n",
       "    </tr>\n",
       "    <tr>\n",
       "      <th>Category</th>\n",
       "      <td>10841</td>\n",
       "      <td>34</td>\n",
       "      <td>FAMILY</td>\n",
       "      <td>1972</td>\n",
       "    </tr>\n",
       "    <tr>\n",
       "      <th>Reviews</th>\n",
       "      <td>10841</td>\n",
       "      <td>6002</td>\n",
       "      <td>0</td>\n",
       "      <td>596</td>\n",
       "    </tr>\n",
       "    <tr>\n",
       "      <th>Size</th>\n",
       "      <td>10841</td>\n",
       "      <td>462</td>\n",
       "      <td>Varies with device</td>\n",
       "      <td>1695</td>\n",
       "    </tr>\n",
       "    <tr>\n",
       "      <th>Installs</th>\n",
       "      <td>10841</td>\n",
       "      <td>22</td>\n",
       "      <td>1,000,000+</td>\n",
       "      <td>1579</td>\n",
       "    </tr>\n",
       "    <tr>\n",
       "      <th>Type</th>\n",
       "      <td>10840</td>\n",
       "      <td>3</td>\n",
       "      <td>Free</td>\n",
       "      <td>10039</td>\n",
       "    </tr>\n",
       "    <tr>\n",
       "      <th>Price</th>\n",
       "      <td>10841</td>\n",
       "      <td>93</td>\n",
       "      <td>0</td>\n",
       "      <td>10040</td>\n",
       "    </tr>\n",
       "    <tr>\n",
       "      <th>Content Rating</th>\n",
       "      <td>10840</td>\n",
       "      <td>6</td>\n",
       "      <td>Everyone</td>\n",
       "      <td>8714</td>\n",
       "    </tr>\n",
       "    <tr>\n",
       "      <th>Genres</th>\n",
       "      <td>10841</td>\n",
       "      <td>120</td>\n",
       "      <td>Tools</td>\n",
       "      <td>842</td>\n",
       "    </tr>\n",
       "    <tr>\n",
       "      <th>Last Updated</th>\n",
       "      <td>10841</td>\n",
       "      <td>1378</td>\n",
       "      <td>August 3, 2018</td>\n",
       "      <td>326</td>\n",
       "    </tr>\n",
       "    <tr>\n",
       "      <th>Current Ver</th>\n",
       "      <td>10833</td>\n",
       "      <td>2832</td>\n",
       "      <td>Varies with device</td>\n",
       "      <td>1459</td>\n",
       "    </tr>\n",
       "    <tr>\n",
       "      <th>Android Ver</th>\n",
       "      <td>10838</td>\n",
       "      <td>33</td>\n",
       "      <td>4.1 and up</td>\n",
       "      <td>2451</td>\n",
       "    </tr>\n",
       "  </tbody>\n",
       "</table>\n",
       "</div>"
      ],
      "text/plain": [
       "                count unique                 top   freq\n",
       "App             10841   9660              ROBLOX      9\n",
       "Category        10841     34              FAMILY   1972\n",
       "Reviews         10841   6002                   0    596\n",
       "Size            10841    462  Varies with device   1695\n",
       "Installs        10841     22          1,000,000+   1579\n",
       "Type            10840      3                Free  10039\n",
       "Price           10841     93                   0  10040\n",
       "Content Rating  10840      6            Everyone   8714\n",
       "Genres          10841    120               Tools    842\n",
       "Last Updated    10841   1378      August 3, 2018    326\n",
       "Current Ver     10833   2832  Varies with device   1459\n",
       "Android Ver     10838     33          4.1 and up   2451"
      ]
     },
     "execution_count": 135,
     "metadata": {},
     "output_type": "execute_result"
    }
   ],
   "source": [
    "df.describe(include='object').T"
   ]
  },
  {
   "cell_type": "markdown",
   "id": "e626ecb2",
   "metadata": {},
   "source": [
    "<span style=\"color:blue\">**INFERENCE:**</span>\n",
    "\n",
    "• **Based on the summary statistics of the object data type, it appears that the 'reviews' column is numeric, but it is mistakenly labeled as an object. Similarly, the 'size,' 'installs,' and 'price' columns also seem to contain numeric data but are incorrectly assigned as objects. It is necessary to investigate these columns to identify and handle any garbage values or symbols to convert them to numeric.**\n",
    "\n",
    "• **Additionally, the categorical variables, namely 'Category,' 'Type,' 'Content Rating,' and 'Rating_category,' need to be encoded. A new column can be created based on the 'Rating' column, where if the rating is greater than 3.5, it is categorized as 'high'; otherwise, it is labeled as 'low,' and this new column can be named 'Rating_category.'**\n",
    "\n",
    "• **Furthermore, columns such as 'Rating,' 'App,' 'Genres,' 'Last Updated,' 'Current Ver,' and 'Android Ver' contain redundant data due to a large number of unique values. It is advisable to remove these columns.**"
   ]
  },
  {
   "cell_type": "markdown",
   "id": "a22c6787",
   "metadata": {
    "ExecuteTime": {
     "end_time": "2023-11-29T02:50:54.419829Z",
     "start_time": "2023-11-29T02:50:53.560537Z"
    }
   },
   "source": [
    "**4. Check if there are any duplicate records in the dataset? if any drop them.**"
   ]
  },
  {
   "cell_type": "code",
   "execution_count": 136,
   "id": "64a55cb0",
   "metadata": {
    "ExecuteTime": {
     "end_time": "2023-11-30T03:53:25.964351Z",
     "start_time": "2023-11-30T03:53:25.896027Z"
    }
   },
   "outputs": [
    {
     "name": "stdout",
     "output_type": "stream",
     "text": [
      "Total number of duplicates :  483\n"
     ]
    }
   ],
   "source": [
    "print('Total number of duplicates : ',df.duplicated().sum())"
   ]
  },
  {
   "cell_type": "code",
   "execution_count": 137,
   "id": "13392b7a",
   "metadata": {
    "ExecuteTime": {
     "end_time": "2023-11-30T03:53:26.846439Z",
     "start_time": "2023-11-30T03:53:26.760330Z"
    }
   },
   "outputs": [],
   "source": [
    "df.drop_duplicates(inplace=True)"
   ]
  },
  {
   "cell_type": "code",
   "execution_count": 138,
   "id": "0b8a614e",
   "metadata": {
    "ExecuteTime": {
     "end_time": "2023-11-30T03:53:27.708431Z",
     "start_time": "2023-11-30T03:53:27.661459Z"
    }
   },
   "outputs": [
    {
     "name": "stdout",
     "output_type": "stream",
     "text": [
      "After droping duplicates :  0\n"
     ]
    }
   ],
   "source": [
    "print('After droping duplicates : ',df.duplicated().sum())"
   ]
  },
  {
   "cell_type": "code",
   "execution_count": 139,
   "id": "7a19432f",
   "metadata": {
    "ExecuteTime": {
     "end_time": "2023-11-30T03:53:29.517974Z",
     "start_time": "2023-11-30T03:53:29.507085Z"
    }
   },
   "outputs": [
    {
     "data": {
      "text/plain": [
       "(10358, 13)"
      ]
     },
     "execution_count": 139,
     "metadata": {},
     "output_type": "execute_result"
    }
   ],
   "source": [
    "df.shape"
   ]
  },
  {
   "cell_type": "markdown",
   "id": "6bb7c0b6",
   "metadata": {},
   "source": [
    "**5. Check the unique categories of the column 'Category', Is there any invalid category? If yes, drop them.**"
   ]
  },
  {
   "cell_type": "code",
   "execution_count": 140,
   "id": "a5b5bce3",
   "metadata": {
    "ExecuteTime": {
     "end_time": "2023-11-30T03:53:34.261519Z",
     "start_time": "2023-11-30T03:53:34.230506Z"
    }
   },
   "outputs": [
    {
     "data": {
      "text/plain": [
       "array(['ART_AND_DESIGN', 'AUTO_AND_VEHICLES', 'BEAUTY',\n",
       "       'BOOKS_AND_REFERENCE', 'BUSINESS', 'COMICS', 'COMMUNICATION',\n",
       "       'DATING', 'EDUCATION', 'ENTERTAINMENT', 'EVENTS', 'FINANCE',\n",
       "       'FOOD_AND_DRINK', 'HEALTH_AND_FITNESS', 'HOUSE_AND_HOME',\n",
       "       'LIBRARIES_AND_DEMO', 'LIFESTYLE', 'GAME', 'FAMILY', 'MEDICAL',\n",
       "       'SOCIAL', 'SHOPPING', 'PHOTOGRAPHY', 'SPORTS', 'TRAVEL_AND_LOCAL',\n",
       "       'TOOLS', 'PERSONALIZATION', 'PRODUCTIVITY', 'PARENTING', 'WEATHER',\n",
       "       'VIDEO_PLAYERS', 'NEWS_AND_MAGAZINES', 'MAPS_AND_NAVIGATION',\n",
       "       '1.9'], dtype=object)"
      ]
     },
     "execution_count": 140,
     "metadata": {},
     "output_type": "execute_result"
    }
   ],
   "source": [
    "df['Category'].unique()"
   ]
  },
  {
   "cell_type": "code",
   "execution_count": 141,
   "id": "f716ca73",
   "metadata": {
    "ExecuteTime": {
     "end_time": "2023-11-30T03:53:35.204697Z",
     "start_time": "2023-11-30T03:53:35.168428Z"
    }
   },
   "outputs": [],
   "source": [
    "# by seeing the unique values we can see that 1.9 is a ivalidid category so i dropped it by using this method\n",
    "\n",
    "df =df[df['Category']!='1.9'].reset_index(drop=True)"
   ]
  },
  {
   "cell_type": "code",
   "execution_count": 142,
   "id": "130c4f32",
   "metadata": {
    "ExecuteTime": {
     "end_time": "2023-11-30T03:53:36.590221Z",
     "start_time": "2023-11-30T03:53:36.562553Z"
    }
   },
   "outputs": [
    {
     "data": {
      "text/plain": [
       "array(['ART_AND_DESIGN', 'AUTO_AND_VEHICLES', 'BEAUTY',\n",
       "       'BOOKS_AND_REFERENCE', 'BUSINESS', 'COMICS', 'COMMUNICATION',\n",
       "       'DATING', 'EDUCATION', 'ENTERTAINMENT', 'EVENTS', 'FINANCE',\n",
       "       'FOOD_AND_DRINK', 'HEALTH_AND_FITNESS', 'HOUSE_AND_HOME',\n",
       "       'LIBRARIES_AND_DEMO', 'LIFESTYLE', 'GAME', 'FAMILY', 'MEDICAL',\n",
       "       'SOCIAL', 'SHOPPING', 'PHOTOGRAPHY', 'SPORTS', 'TRAVEL_AND_LOCAL',\n",
       "       'TOOLS', 'PERSONALIZATION', 'PRODUCTIVITY', 'PARENTING', 'WEATHER',\n",
       "       'VIDEO_PLAYERS', 'NEWS_AND_MAGAZINES', 'MAPS_AND_NAVIGATION'],\n",
       "      dtype=object)"
      ]
     },
     "execution_count": 142,
     "metadata": {},
     "output_type": "execute_result"
    }
   ],
   "source": [
    "df['Category'].unique()"
   ]
  },
  {
   "cell_type": "code",
   "execution_count": 143,
   "id": "9476e1ee",
   "metadata": {
    "ExecuteTime": {
     "end_time": "2023-11-30T03:53:38.954463Z",
     "start_time": "2023-11-30T03:53:38.929312Z"
    }
   },
   "outputs": [
    {
     "data": {
      "text/plain": [
       "(10357, 13)"
      ]
     },
     "execution_count": 143,
     "metadata": {},
     "output_type": "execute_result"
    }
   ],
   "source": [
    "df.shape"
   ]
  },
  {
   "cell_type": "markdown",
   "id": "0228fc99",
   "metadata": {},
   "source": [
    "**6. Check if there are missing values present in the column Rating, If any? drop them and create a new\n",
    "column as 'Rating_category' by converting ratings to high and low categories(>3.5 is high rest low)**"
   ]
  },
  {
   "cell_type": "code",
   "execution_count": 144,
   "id": "fbda6b69",
   "metadata": {
    "ExecuteTime": {
     "end_time": "2023-11-30T03:53:42.731695Z",
     "start_time": "2023-11-30T03:53:42.702998Z"
    }
   },
   "outputs": [
    {
     "data": {
      "text/plain": [
       "1465"
      ]
     },
     "execution_count": 144,
     "metadata": {},
     "output_type": "execute_result"
    }
   ],
   "source": [
    "df['Rating'].isnull().sum()\n",
    "# yes there is presence of null values in column rating it contains 1465 null values"
   ]
  },
  {
   "cell_type": "code",
   "execution_count": 145,
   "id": "789e016d",
   "metadata": {
    "ExecuteTime": {
     "end_time": "2023-11-30T03:53:44.799726Z",
     "start_time": "2023-11-30T03:53:44.772394Z"
    }
   },
   "outputs": [
    {
     "data": {
      "text/plain": [
       "App                  0\n",
       "Category             0\n",
       "Rating            1465\n",
       "Reviews              0\n",
       "Size                 0\n",
       "Installs             0\n",
       "Type                 1\n",
       "Price                0\n",
       "Content Rating       0\n",
       "Genres               0\n",
       "Last Updated         0\n",
       "Current Ver          8\n",
       "Android Ver          2\n",
       "dtype: int64"
      ]
     },
     "execution_count": 145,
     "metadata": {},
     "output_type": "execute_result"
    }
   ],
   "source": [
    "df.isnull().sum()"
   ]
  },
  {
   "cell_type": "code",
   "execution_count": 146,
   "id": "c2f53a78",
   "metadata": {
    "ExecuteTime": {
     "end_time": "2023-11-30T03:53:51.937047Z",
     "start_time": "2023-11-30T03:53:51.892797Z"
    }
   },
   "outputs": [],
   "source": [
    "df.dropna(inplace=True)"
   ]
  },
  {
   "cell_type": "code",
   "execution_count": 147,
   "id": "bad023c3",
   "metadata": {
    "ExecuteTime": {
     "end_time": "2023-11-30T03:53:53.087797Z",
     "start_time": "2023-11-30T03:53:53.052786Z"
    }
   },
   "outputs": [
    {
     "name": "stdout",
     "output_type": "stream",
     "text": [
      "The presence of null value after diopping na:  0\n",
      "                                                             \n",
      "the shape of df after dropping na:  (8886, 13)\n"
     ]
    }
   ],
   "source": [
    "print(\"The presence of null value after diopping na: \",df.isna().sum().sum())\n",
    "print(\"                                                             \")\n",
    "print('the shape of df after dropping na: ',df.shape)"
   ]
  },
  {
   "cell_type": "code",
   "execution_count": 148,
   "id": "0d42dd8c",
   "metadata": {
    "ExecuteTime": {
     "end_time": "2023-11-30T03:53:55.398145Z",
     "start_time": "2023-11-30T03:53:55.374240Z"
    }
   },
   "outputs": [],
   "source": [
    "df['Rating_category'] = np.where(df['Rating']>3.5,'High','low')"
   ]
  },
  {
   "cell_type": "code",
   "execution_count": 149,
   "id": "e92d7df8",
   "metadata": {
    "ExecuteTime": {
     "end_time": "2023-11-30T03:53:56.605620Z",
     "start_time": "2023-11-30T03:53:56.541223Z"
    }
   },
   "outputs": [
    {
     "data": {
      "text/html": [
       "<div>\n",
       "<style scoped>\n",
       "    .dataframe tbody tr th:only-of-type {\n",
       "        vertical-align: middle;\n",
       "    }\n",
       "\n",
       "    .dataframe tbody tr th {\n",
       "        vertical-align: top;\n",
       "    }\n",
       "\n",
       "    .dataframe thead th {\n",
       "        text-align: right;\n",
       "    }\n",
       "</style>\n",
       "<table border=\"1\" class=\"dataframe\">\n",
       "  <thead>\n",
       "    <tr style=\"text-align: right;\">\n",
       "      <th></th>\n",
       "      <th>App</th>\n",
       "      <th>Category</th>\n",
       "      <th>Rating</th>\n",
       "      <th>Reviews</th>\n",
       "      <th>Size</th>\n",
       "      <th>Installs</th>\n",
       "      <th>Type</th>\n",
       "      <th>Price</th>\n",
       "      <th>Content Rating</th>\n",
       "      <th>Genres</th>\n",
       "      <th>Last Updated</th>\n",
       "      <th>Current Ver</th>\n",
       "      <th>Android Ver</th>\n",
       "      <th>Rating_category</th>\n",
       "    </tr>\n",
       "  </thead>\n",
       "  <tbody>\n",
       "    <tr>\n",
       "      <th>0</th>\n",
       "      <td>Photo Editor &amp; Candy Camera &amp; Grid &amp; ScrapBook</td>\n",
       "      <td>ART_AND_DESIGN</td>\n",
       "      <td>4.1</td>\n",
       "      <td>159</td>\n",
       "      <td>19M</td>\n",
       "      <td>10,000+</td>\n",
       "      <td>Free</td>\n",
       "      <td>0</td>\n",
       "      <td>Everyone</td>\n",
       "      <td>Art &amp; Design</td>\n",
       "      <td>January 7, 2018</td>\n",
       "      <td>1.0.0</td>\n",
       "      <td>4.0.3 and up</td>\n",
       "      <td>High</td>\n",
       "    </tr>\n",
       "    <tr>\n",
       "      <th>1</th>\n",
       "      <td>Coloring book moana</td>\n",
       "      <td>ART_AND_DESIGN</td>\n",
       "      <td>3.9</td>\n",
       "      <td>967</td>\n",
       "      <td>14M</td>\n",
       "      <td>500,000+</td>\n",
       "      <td>Free</td>\n",
       "      <td>0</td>\n",
       "      <td>Everyone</td>\n",
       "      <td>Art &amp; Design;Pretend Play</td>\n",
       "      <td>January 15, 2018</td>\n",
       "      <td>2.0.0</td>\n",
       "      <td>4.0.3 and up</td>\n",
       "      <td>High</td>\n",
       "    </tr>\n",
       "    <tr>\n",
       "      <th>2</th>\n",
       "      <td>U Launcher Lite – FREE Live Cool Themes, Hide ...</td>\n",
       "      <td>ART_AND_DESIGN</td>\n",
       "      <td>4.7</td>\n",
       "      <td>87510</td>\n",
       "      <td>8.7M</td>\n",
       "      <td>5,000,000+</td>\n",
       "      <td>Free</td>\n",
       "      <td>0</td>\n",
       "      <td>Everyone</td>\n",
       "      <td>Art &amp; Design</td>\n",
       "      <td>August 1, 2018</td>\n",
       "      <td>1.2.4</td>\n",
       "      <td>4.0.3 and up</td>\n",
       "      <td>High</td>\n",
       "    </tr>\n",
       "    <tr>\n",
       "      <th>3</th>\n",
       "      <td>Sketch - Draw &amp; Paint</td>\n",
       "      <td>ART_AND_DESIGN</td>\n",
       "      <td>4.5</td>\n",
       "      <td>215644</td>\n",
       "      <td>25M</td>\n",
       "      <td>50,000,000+</td>\n",
       "      <td>Free</td>\n",
       "      <td>0</td>\n",
       "      <td>Teen</td>\n",
       "      <td>Art &amp; Design</td>\n",
       "      <td>June 8, 2018</td>\n",
       "      <td>Varies with device</td>\n",
       "      <td>4.2 and up</td>\n",
       "      <td>High</td>\n",
       "    </tr>\n",
       "    <tr>\n",
       "      <th>4</th>\n",
       "      <td>Pixel Draw - Number Art Coloring Book</td>\n",
       "      <td>ART_AND_DESIGN</td>\n",
       "      <td>4.3</td>\n",
       "      <td>967</td>\n",
       "      <td>2.8M</td>\n",
       "      <td>100,000+</td>\n",
       "      <td>Free</td>\n",
       "      <td>0</td>\n",
       "      <td>Everyone</td>\n",
       "      <td>Art &amp; Design;Creativity</td>\n",
       "      <td>June 20, 2018</td>\n",
       "      <td>1.1</td>\n",
       "      <td>4.4 and up</td>\n",
       "      <td>High</td>\n",
       "    </tr>\n",
       "  </tbody>\n",
       "</table>\n",
       "</div>"
      ],
      "text/plain": [
       "                                                 App        Category  Rating  \\\n",
       "0     Photo Editor & Candy Camera & Grid & ScrapBook  ART_AND_DESIGN     4.1   \n",
       "1                                Coloring book moana  ART_AND_DESIGN     3.9   \n",
       "2  U Launcher Lite – FREE Live Cool Themes, Hide ...  ART_AND_DESIGN     4.7   \n",
       "3                              Sketch - Draw & Paint  ART_AND_DESIGN     4.5   \n",
       "4              Pixel Draw - Number Art Coloring Book  ART_AND_DESIGN     4.3   \n",
       "\n",
       "  Reviews  Size     Installs  Type Price Content Rating  \\\n",
       "0     159   19M      10,000+  Free     0       Everyone   \n",
       "1     967   14M     500,000+  Free     0       Everyone   \n",
       "2   87510  8.7M   5,000,000+  Free     0       Everyone   \n",
       "3  215644   25M  50,000,000+  Free     0           Teen   \n",
       "4     967  2.8M     100,000+  Free     0       Everyone   \n",
       "\n",
       "                      Genres      Last Updated         Current Ver  \\\n",
       "0               Art & Design   January 7, 2018               1.0.0   \n",
       "1  Art & Design;Pretend Play  January 15, 2018               2.0.0   \n",
       "2               Art & Design    August 1, 2018               1.2.4   \n",
       "3               Art & Design      June 8, 2018  Varies with device   \n",
       "4    Art & Design;Creativity     June 20, 2018                 1.1   \n",
       "\n",
       "    Android Ver Rating_category  \n",
       "0  4.0.3 and up            High  \n",
       "1  4.0.3 and up            High  \n",
       "2  4.0.3 and up            High  \n",
       "3    4.2 and up            High  \n",
       "4    4.4 and up            High  "
      ]
     },
     "execution_count": 149,
     "metadata": {},
     "output_type": "execute_result"
    }
   ],
   "source": [
    "df.head()"
   ]
  },
  {
   "cell_type": "code",
   "execution_count": 150,
   "id": "293c2f17",
   "metadata": {
    "ExecuteTime": {
     "end_time": "2023-11-30T03:53:58.107653Z",
     "start_time": "2023-11-30T03:53:58.054216Z"
    }
   },
   "outputs": [
    {
     "name": "stdout",
     "output_type": "stream",
     "text": [
      "<class 'pandas.core.frame.DataFrame'>\n",
      "Index: 8886 entries, 0 to 10356\n",
      "Data columns (total 14 columns):\n",
      " #   Column           Non-Null Count  Dtype  \n",
      "---  ------           --------------  -----  \n",
      " 0   App              8886 non-null   object \n",
      " 1   Category         8886 non-null   object \n",
      " 2   Rating           8886 non-null   float64\n",
      " 3   Reviews          8886 non-null   object \n",
      " 4   Size             8886 non-null   object \n",
      " 5   Installs         8886 non-null   object \n",
      " 6   Type             8886 non-null   object \n",
      " 7   Price            8886 non-null   object \n",
      " 8   Content Rating   8886 non-null   object \n",
      " 9   Genres           8886 non-null   object \n",
      " 10  Last Updated     8886 non-null   object \n",
      " 11  Current Ver      8886 non-null   object \n",
      " 12  Android Ver      8886 non-null   object \n",
      " 13  Rating_category  8886 non-null   object \n",
      "dtypes: float64(1), object(13)\n",
      "memory usage: 1.0+ MB\n"
     ]
    }
   ],
   "source": [
    "df.info()  "
   ]
  },
  {
   "cell_type": "markdown",
   "id": "1e807b2f",
   "metadata": {},
   "source": [
    "**7. Check the distribution of the newly created column 'Rating_category' and comment on the distribution.**"
   ]
  },
  {
   "cell_type": "code",
   "execution_count": 151,
   "id": "b9aba125",
   "metadata": {
    "ExecuteTime": {
     "end_time": "2023-11-30T03:54:02.913254Z",
     "start_time": "2023-11-30T03:54:02.606368Z"
    }
   },
   "outputs": [
    {
     "data": {
      "image/png": "[encoded data removed]",
      "text/plain": [
       "<Figure size 640x480 with 1 Axes>"
      ]
     },
     "metadata": {},
     "output_type": "display_data"
    },
    {
     "name": "stdout",
     "output_type": "stream",
     "text": [
      "                                     \n",
      "Rating_category\n",
      "High    0.90108\n",
      "low     0.09892\n",
      "Name: proportion, dtype: float64\n"
     ]
    }
   ],
   "source": [
    "sns.countplot(data=df, x='Rating_category')\n",
    "plt.show()\n",
    "print('                                     ')\n",
    "print(df['Rating_category'].value_counts(normalize=True))"
   ]
  },
  {
   "cell_type": "markdown",
   "id": "26349545",
   "metadata": {},
   "source": [
    "<span style=\"color:blue\">**INFERENCE:**</span>\n",
    "\n",
    "• **From this, we can conclude that almost 90% of the apps are rated high, while only 10% of apps receive low ratings. According to the data, if a new app is released, there is a 90% chance that it will receive a rating higher than 3.5.**\n",
    "\n",
    "**• This is because the data in not balanced properly so we are getting this kind of result.Hence The distribution is imbalanced we have to balance the data.**"
   ]
  },
  {
   "cell_type": "markdown",
   "id": "e9f7e845",
   "metadata": {},
   "source": [
    "**8. Convert the column \"Reviews'' to numeric data type and check the presence of outliers in the column and\n",
    "handle the outliers using a transformation approach.(Hint: Use log transformation)**\n"
   ]
  },
  {
   "cell_type": "code",
   "execution_count": 152,
   "id": "7c4808fd",
   "metadata": {
    "ExecuteTime": {
     "end_time": "2023-11-30T03:54:06.298679Z",
     "start_time": "2023-11-30T03:54:06.271952Z"
    }
   },
   "outputs": [],
   "source": [
    "df['Reviews']=df['Reviews'].astype(int)"
   ]
  },
  {
   "cell_type": "code",
   "execution_count": 153,
   "id": "097fe388",
   "metadata": {
    "ExecuteTime": {
     "end_time": "2023-11-30T03:54:07.095543Z",
     "start_time": "2023-11-30T03:54:07.072210Z"
    }
   },
   "outputs": [
    {
     "data": {
      "text/plain": [
       "dtype('int32')"
      ]
     },
     "execution_count": 153,
     "metadata": {},
     "output_type": "execute_result"
    }
   ],
   "source": [
    "df['Reviews'].dtype"
   ]
  },
  {
   "cell_type": "code",
   "execution_count": 154,
   "id": "195898ad",
   "metadata": {
    "ExecuteTime": {
     "end_time": "2023-11-30T03:54:07.820038Z",
     "start_time": "2023-11-30T03:54:07.791815Z"
    }
   },
   "outputs": [
    {
     "data": {
      "text/plain": [
       "16.202305142596288"
      ]
     },
     "execution_count": 154,
     "metadata": {},
     "output_type": "execute_result"
    }
   ],
   "source": [
    "df['Reviews'].skew()\n",
    "# the skewness is very high that means data consist of very large outliers we can remove outliers \n",
    "# or we can also transform outliers"
   ]
  },
  {
   "cell_type": "code",
   "execution_count": 155,
   "id": "ccc33606",
   "metadata": {
    "ExecuteTime": {
     "end_time": "2023-11-30T03:54:10.933964Z",
     "start_time": "2023-11-30T03:54:09.592510Z"
    }
   },
   "outputs": [
    {
     "data": {
      "image/png": "[encoded data removed]",
      "text/plain": [
       "<Figure size 1200x600 with 2 Axes>"
      ]
     },
     "metadata": {},
     "output_type": "display_data"
    }
   ],
   "source": [
    "plt.figure(figsize=(12, 6))\n",
    "\n",
    "# Before Log Transformation\n",
    "plt.subplot(1, 2, 1)\n",
    "sns.kdeplot(data=df, x='Reviews')\n",
    "plt.title('Kernel Density Estimate (KDE) Plot for Reviews (Before Log Transformation)')\n",
    "\n",
    "# After Log Transformation\n",
    "plt.subplot(1, 2, 2)\n",
    "sns.kdeplot(np.log1p(df['Reviews'])) \n",
    "plt.title('Kernel Density Estimate (KDE) Plot for Reviews (After Log Transformation)')\n",
    "\n",
    "plt.show()"
   ]
  },
  {
   "cell_type": "code",
   "execution_count": 156,
   "id": "76378f5e",
   "metadata": {
    "ExecuteTime": {
     "end_time": "2023-11-30T03:54:11.883503Z",
     "start_time": "2023-11-30T03:54:11.864244Z"
    }
   },
   "outputs": [],
   "source": [
    "df['Reviews']=np.log1p(df['Reviews'])"
   ]
  },
  {
   "cell_type": "code",
   "execution_count": 157,
   "id": "615b4f13",
   "metadata": {
    "ExecuteTime": {
     "end_time": "2023-11-30T03:54:13.678879Z",
     "start_time": "2023-11-30T03:54:13.654385Z"
    }
   },
   "outputs": [
    {
     "data": {
      "text/plain": [
       "-0.8932238764607986"
      ]
     },
     "execution_count": 157,
     "metadata": {},
     "output_type": "execute_result"
    }
   ],
   "source": [
    "np.log1p(df['Reviews']).skew()"
   ]
  },
  {
   "cell_type": "markdown",
   "id": "37f4a2c7",
   "metadata": {
    "ExecuteTime": {
     "end_time": "2023-11-29T07:07:23.789204Z",
     "start_time": "2023-11-29T07:07:23.781818Z"
    }
   },
   "source": [
    "**9. The column 'Size' contains alphanumeric values, treat the non numeric data and convert the column into\n",
    "suitable data type. (hint: Replace M with 1 million and K with 1 thousand, and drop the entries where\n",
    "size='Varies with device')**\n"
   ]
  },
  {
   "cell_type": "code",
   "execution_count": 158,
   "id": "640862a7",
   "metadata": {
    "ExecuteTime": {
     "end_time": "2023-11-30T04:12:46.748487Z",
     "start_time": "2023-11-30T04:12:46.742283Z"
    }
   },
   "outputs": [],
   "source": [
    "# replacing m with millon by removing m and multiplied by 1000000 \n",
    "#similary for k with 1000 and varies with device is replace by nan for that i created a funtion\n",
    "\n",
    "def convert_size(value):\n",
    "    if 'M' in value:\n",
    "        return float(value.replace('M', '')) * 1e6\n",
    "    elif 'k' in value:\n",
    "        return float(value.replace('k', '')) * 1e3\n",
    "    else:\n",
    "        return pd.NA"
   ]
  },
  {
   "cell_type": "code",
   "execution_count": 159,
   "id": "c9eb06a9",
   "metadata": {
    "ExecuteTime": {
     "end_time": "2023-11-30T04:12:49.778889Z",
     "start_time": "2023-11-30T04:12:49.764590Z"
    }
   },
   "outputs": [],
   "source": [
    "df['Size'] = df['Size'].apply(convert_size) # applying this funtion to column Size."
   ]
  },
  {
   "cell_type": "code",
   "execution_count": 167,
   "id": "4f4ab6c8",
   "metadata": {
    "ExecuteTime": {
     "end_time": "2023-11-30T04:17:18.295413Z",
     "start_time": "2023-11-30T04:17:18.265608Z"
    }
   },
   "outputs": [
    {
     "data": {
      "text/plain": [
       "App                   0\n",
       "Category              0\n",
       "Rating                0\n",
       "Reviews               0\n",
       "Size               1468\n",
       "Installs              0\n",
       "Type                  0\n",
       "Price                 0\n",
       "Content Rating        0\n",
       "Genres                0\n",
       "Last Updated          0\n",
       "Current Ver           0\n",
       "Android Ver           0\n",
       "Rating_category       0\n",
       "dtype: int64"
      ]
     },
     "execution_count": 167,
     "metadata": {},
     "output_type": "execute_result"
    }
   ],
   "source": [
    "df.isnull().sum() # now varies with devices become →nan "
   ]
  },
  {
   "cell_type": "code",
   "execution_count": 173,
   "id": "d2f79275",
   "metadata": {
    "ExecuteTime": {
     "end_time": "2023-11-30T04:29:58.483917Z",
     "start_time": "2023-11-30T04:29:58.457127Z"
    }
   },
   "outputs": [
    {
     "data": {
      "text/html": [
       "<div>\n",
       "<style scoped>\n",
       "    .dataframe tbody tr th:only-of-type {\n",
       "        vertical-align: middle;\n",
       "    }\n",
       "\n",
       "    .dataframe tbody tr th {\n",
       "        vertical-align: top;\n",
       "    }\n",
       "\n",
       "    .dataframe thead th {\n",
       "        text-align: right;\n",
       "    }\n",
       "</style>\n",
       "<table border=\"1\" class=\"dataframe\">\n",
       "  <thead>\n",
       "    <tr style=\"text-align: right;\">\n",
       "      <th></th>\n",
       "      <th>App</th>\n",
       "      <th>Category</th>\n",
       "      <th>Rating</th>\n",
       "      <th>Reviews</th>\n",
       "      <th>Size</th>\n",
       "      <th>Installs</th>\n",
       "      <th>Type</th>\n",
       "      <th>Price</th>\n",
       "      <th>Content Rating</th>\n",
       "      <th>Genres</th>\n",
       "      <th>Last Updated</th>\n",
       "      <th>Current Ver</th>\n",
       "      <th>Android Ver</th>\n",
       "      <th>Rating_category</th>\n",
       "    </tr>\n",
       "  </thead>\n",
       "  <tbody>\n",
       "    <tr>\n",
       "      <th>0</th>\n",
       "      <td>Photo Editor &amp; Candy Camera &amp; Grid &amp; ScrapBook</td>\n",
       "      <td>ART_AND_DESIGN</td>\n",
       "      <td>4.1</td>\n",
       "      <td>5.075174</td>\n",
       "      <td>19000000.0</td>\n",
       "      <td>10,000+</td>\n",
       "      <td>Free</td>\n",
       "      <td>0</td>\n",
       "      <td>Everyone</td>\n",
       "      <td>Art &amp; Design</td>\n",
       "      <td>January 7, 2018</td>\n",
       "      <td>1.0.0</td>\n",
       "      <td>4.0.3 and up</td>\n",
       "      <td>High</td>\n",
       "    </tr>\n",
       "    <tr>\n",
       "      <th>1</th>\n",
       "      <td>Coloring book moana</td>\n",
       "      <td>ART_AND_DESIGN</td>\n",
       "      <td>3.9</td>\n",
       "      <td>6.875232</td>\n",
       "      <td>14000000.0</td>\n",
       "      <td>500,000+</td>\n",
       "      <td>Free</td>\n",
       "      <td>0</td>\n",
       "      <td>Everyone</td>\n",
       "      <td>Art &amp; Design;Pretend Play</td>\n",
       "      <td>January 15, 2018</td>\n",
       "      <td>2.0.0</td>\n",
       "      <td>4.0.3 and up</td>\n",
       "      <td>High</td>\n",
       "    </tr>\n",
       "    <tr>\n",
       "      <th>2</th>\n",
       "      <td>U Launcher Lite – FREE Live Cool Themes, Hide ...</td>\n",
       "      <td>ART_AND_DESIGN</td>\n",
       "      <td>4.7</td>\n",
       "      <td>11.379520</td>\n",
       "      <td>8700000.0</td>\n",
       "      <td>5,000,000+</td>\n",
       "      <td>Free</td>\n",
       "      <td>0</td>\n",
       "      <td>Everyone</td>\n",
       "      <td>Art &amp; Design</td>\n",
       "      <td>August 1, 2018</td>\n",
       "      <td>1.2.4</td>\n",
       "      <td>4.0.3 and up</td>\n",
       "      <td>High</td>\n",
       "    </tr>\n",
       "    <tr>\n",
       "      <th>3</th>\n",
       "      <td>Sketch - Draw &amp; Paint</td>\n",
       "      <td>ART_AND_DESIGN</td>\n",
       "      <td>4.5</td>\n",
       "      <td>12.281389</td>\n",
       "      <td>25000000.0</td>\n",
       "      <td>50,000,000+</td>\n",
       "      <td>Free</td>\n",
       "      <td>0</td>\n",
       "      <td>Teen</td>\n",
       "      <td>Art &amp; Design</td>\n",
       "      <td>June 8, 2018</td>\n",
       "      <td>Varies with device</td>\n",
       "      <td>4.2 and up</td>\n",
       "      <td>High</td>\n",
       "    </tr>\n",
       "    <tr>\n",
       "      <th>4</th>\n",
       "      <td>Pixel Draw - Number Art Coloring Book</td>\n",
       "      <td>ART_AND_DESIGN</td>\n",
       "      <td>4.3</td>\n",
       "      <td>6.875232</td>\n",
       "      <td>2800000.0</td>\n",
       "      <td>100,000+</td>\n",
       "      <td>Free</td>\n",
       "      <td>0</td>\n",
       "      <td>Everyone</td>\n",
       "      <td>Art &amp; Design;Creativity</td>\n",
       "      <td>June 20, 2018</td>\n",
       "      <td>1.1</td>\n",
       "      <td>4.4 and up</td>\n",
       "      <td>High</td>\n",
       "    </tr>\n",
       "  </tbody>\n",
       "</table>\n",
       "</div>"
      ],
      "text/plain": [
       "                                                 App        Category  Rating  \\\n",
       "0     Photo Editor & Candy Camera & Grid & ScrapBook  ART_AND_DESIGN     4.1   \n",
       "1                                Coloring book moana  ART_AND_DESIGN     3.9   \n",
       "2  U Launcher Lite – FREE Live Cool Themes, Hide ...  ART_AND_DESIGN     4.7   \n",
       "3                              Sketch - Draw & Paint  ART_AND_DESIGN     4.5   \n",
       "4              Pixel Draw - Number Art Coloring Book  ART_AND_DESIGN     4.3   \n",
       "\n",
       "     Reviews        Size     Installs  Type Price Content Rating  \\\n",
       "0   5.075174  19000000.0      10,000+  Free     0       Everyone   \n",
       "1   6.875232  14000000.0     500,000+  Free     0       Everyone   \n",
       "2  11.379520   8700000.0   5,000,000+  Free     0       Everyone   \n",
       "3  12.281389  25000000.0  50,000,000+  Free     0           Teen   \n",
       "4   6.875232   2800000.0     100,000+  Free     0       Everyone   \n",
       "\n",
       "                      Genres      Last Updated         Current Ver  \\\n",
       "0               Art & Design   January 7, 2018               1.0.0   \n",
       "1  Art & Design;Pretend Play  January 15, 2018               2.0.0   \n",
       "2               Art & Design    August 1, 2018               1.2.4   \n",
       "3               Art & Design      June 8, 2018  Varies with device   \n",
       "4    Art & Design;Creativity     June 20, 2018                 1.1   \n",
       "\n",
       "    Android Ver Rating_category  \n",
       "0  4.0.3 and up            High  \n",
       "1  4.0.3 and up            High  \n",
       "2  4.0.3 and up            High  \n",
       "3    4.2 and up            High  \n",
       "4    4.4 and up            High  "
      ]
     },
     "execution_count": 173,
     "metadata": {},
     "output_type": "execute_result"
    }
   ],
   "source": [
    "df.dropna(inplace=True) # Dropping 'varies with device' which is replaced by NA and reset the index\n",
    "df.reset_index(drop=True)\n",
    "df.head()"
   ]
  },
  {
   "cell_type": "code",
   "execution_count": 174,
   "id": "5ea10f4d",
   "metadata": {
    "ExecuteTime": {
     "end_time": "2023-11-30T04:33:43.647452Z",
     "start_time": "2023-11-30T04:33:43.641656Z"
    }
   },
   "outputs": [
    {
     "data": {
      "text/plain": [
       "(7418, 14)"
      ]
     },
     "execution_count": 174,
     "metadata": {},
     "output_type": "execute_result"
    }
   ],
   "source": [
    "df.shape"
   ]
  },
  {
   "cell_type": "code",
   "execution_count": 178,
   "id": "d6bc9151",
   "metadata": {
    "ExecuteTime": {
     "end_time": "2023-11-30T04:36:09.255284Z",
     "start_time": "2023-11-30T04:36:09.249782Z"
    }
   },
   "outputs": [],
   "source": [
    "df['Size']=df['Size'].astype(float)"
   ]
  },
  {
   "cell_type": "code",
   "execution_count": 188,
   "id": "8f33ce73",
   "metadata": {
    "ExecuteTime": {
     "end_time": "2023-11-30T04:38:27.049634Z",
     "start_time": "2023-11-30T04:38:27.044927Z"
    }
   },
   "outputs": [
    {
     "name": "stdout",
     "output_type": "stream",
     "text": [
      "The datatype of column \"size\" is: float64\n"
     ]
    }
   ],
   "source": [
    "print('The datatype of column \"size\" is:',df['Size'].dtype)"
   ]
  },
  {
   "cell_type": "code",
   "execution_count": 189,
   "id": "6c5db8af",
   "metadata": {
    "ExecuteTime": {
     "end_time": "2023-11-30T04:38:34.269872Z",
     "start_time": "2023-11-30T04:38:34.256037Z"
    }
   },
   "outputs": [
    {
     "name": "stdout",
     "output_type": "stream",
     "text": [
      "<class 'pandas.core.frame.DataFrame'>\n",
      "Index: 7418 entries, 0 to 10356\n",
      "Data columns (total 14 columns):\n",
      " #   Column           Non-Null Count  Dtype  \n",
      "---  ------           --------------  -----  \n",
      " 0   App              7418 non-null   object \n",
      " 1   Category         7418 non-null   object \n",
      " 2   Rating           7418 non-null   float64\n",
      " 3   Reviews          7418 non-null   float64\n",
      " 4   Size             7418 non-null   float64\n",
      " 5   Installs         7418 non-null   object \n",
      " 6   Type             7418 non-null   object \n",
      " 7   Price            7418 non-null   object \n",
      " 8   Content Rating   7418 non-null   object \n",
      " 9   Genres           7418 non-null   object \n",
      " 10  Last Updated     7418 non-null   object \n",
      " 11  Current Ver      7418 non-null   object \n",
      " 12  Android Ver      7418 non-null   object \n",
      " 13  Rating_category  7418 non-null   object \n",
      "dtypes: float64(3), object(11)\n",
      "memory usage: 869.3+ KB\n"
     ]
    }
   ],
   "source": [
    "df.info()"
   ]
  },
  {
   "cell_type": "markdown",
   "id": "5701ec4b",
   "metadata": {},
   "source": [
    "**10. Check the column 'Installs', treat the unwanted characters and convert the column into a suitable data type**"
   ]
  },
  {
   "cell_type": "code",
   "execution_count": 196,
   "id": "dabade45",
   "metadata": {
    "ExecuteTime": {
     "end_time": "2023-11-30T04:46:40.373655Z",
     "start_time": "2023-11-30T04:46:40.364308Z"
    }
   },
   "outputs": [
    {
     "data": {
      "text/plain": [
       "0        10,000+\n",
       "1       500,000+\n",
       "2     5,000,000+\n",
       "3    50,000,000+\n",
       "4       100,000+\n",
       "Name: Installs, dtype: object"
      ]
     },
     "execution_count": 196,
     "metadata": {},
     "output_type": "execute_result"
    }
   ],
   "source": [
    "df['Installs'].head() # the unwanted characters need to be treated is '+',\",\""
   ]
  },
  {
   "cell_type": "code",
   "execution_count": 206,
   "id": "fb49c744",
   "metadata": {
    "ExecuteTime": {
     "end_time": "2023-11-30T05:00:34.071998Z",
     "start_time": "2023-11-30T05:00:34.015218Z"
    }
   },
   "outputs": [],
   "source": [
    "df['Installs']=df['Installs'].replace({'[,+]': ''}, regex=True)"
   ]
  },
  {
   "cell_type": "code",
   "execution_count": 209,
   "id": "4a36232f",
   "metadata": {
    "ExecuteTime": {
     "end_time": "2023-11-30T05:01:43.924145Z",
     "start_time": "2023-11-30T05:01:43.917274Z"
    }
   },
   "outputs": [],
   "source": [
    "df['Installs']=df['Installs'].astype(int)"
   ]
  },
  {
   "cell_type": "code",
   "execution_count": 213,
   "id": "82104e2a",
   "metadata": {
    "ExecuteTime": {
     "end_time": "2023-11-30T05:03:04.290970Z",
     "start_time": "2023-11-30T05:03:04.286317Z"
    }
   },
   "outputs": [
    {
     "name": "stdout",
     "output_type": "stream",
     "text": [
      "The datatype of column \"Installs\" is:  int32\n"
     ]
    }
   ],
   "source": [
    "print('The datatype of column \"Installs\" is: ',df['Installs'].dtype)"
   ]
  },
  {
   "cell_type": "markdown",
   "id": "4887d984",
   "metadata": {
    "ExecuteTime": {
     "end_time": "2023-11-30T05:05:08.090426Z",
     "start_time": "2023-11-30T05:05:08.084945Z"
    }
   },
   "source": [
    "**11. Check the column 'Price' , remove the unwanted characters and convert the column into a suitable data type.**"
   ]
  },
  {
   "cell_type": "code",
   "execution_count": 216,
   "id": "64ec4ac1",
   "metadata": {
    "ExecuteTime": {
     "end_time": "2023-11-30T05:22:23.373869Z",
     "start_time": "2023-11-30T05:22:23.366517Z"
    }
   },
   "outputs": [
    {
     "data": {
      "text/plain": [
       "array(['0', '$4.99', '$6.99', '$7.99', '$3.99', '$5.99', '$2.99', '$1.99',\n",
       "       '$9.99', '$0.99', '$9.00', '$5.49', '$10.00', '$24.99', '$11.99',\n",
       "       '$79.99', '$16.99', '$14.99', '$29.99', '$12.99', '$3.49',\n",
       "       '$10.99', '$7.49', '$1.50', '$19.99', '$15.99', '$33.99', '$39.99',\n",
       "       '$2.49', '$4.49', '$1.70', '$1.49', '$3.88', '$399.99', '$17.99',\n",
       "       '$400.00', '$3.02', '$1.76', '$4.84', '$4.77', '$1.61', '$1.59',\n",
       "       '$6.49', '$1.29', '$299.99', '$379.99', '$37.99', '$18.99',\n",
       "       '$389.99', '$8.49', '$1.75', '$14.00', '$2.00', '$3.08', '$2.59',\n",
       "       '$19.40', '$15.46', '$8.99', '$3.04', '$13.99', '$4.29', '$3.28',\n",
       "       '$4.60', '$1.00', '$2.90', '$1.97', '$2.56', '$1.20'], dtype=object)"
      ]
     },
     "execution_count": 216,
     "metadata": {},
     "output_type": "execute_result"
    }
   ],
   "source": [
    "df['Price'].unique()"
   ]
  },
  {
   "cell_type": "code",
   "execution_count": 218,
   "id": "1aad40fd",
   "metadata": {
    "ExecuteTime": {
     "end_time": "2023-11-30T05:26:39.185118Z",
     "start_time": "2023-11-30T05:26:39.173811Z"
    }
   },
   "outputs": [],
   "source": [
    "df['Price']=df['Price'].str.replace('$',\"\").astype(float)"
   ]
  },
  {
   "cell_type": "code",
   "execution_count": 219,
   "id": "b1c4391a",
   "metadata": {
    "ExecuteTime": {
     "end_time": "2023-11-30T05:26:54.551323Z",
     "start_time": "2023-11-30T05:26:54.544573Z"
    }
   },
   "outputs": [
    {
     "data": {
      "text/plain": [
       "dtype('float64')"
      ]
     },
     "execution_count": 219,
     "metadata": {},
     "output_type": "execute_result"
    }
   ],
   "source": [
    "df['Price'].dtype"
   ]
  },
  {
   "cell_type": "markdown",
   "id": "9e0a24da",
   "metadata": {},
   "source": [
    "**12. Drop the columns which you think redundant for the analysis.(suggestion: drop column 'rating', since we\n",
    "created a new feature from it (i.e. rating_category) and the columns 'App', 'Rating' ,'Genres','Last Updated',\n",
    "'Current Ver','Android Ver' columns since which are redundant for our analysis)**"
   ]
  },
  {
   "cell_type": "code",
   "execution_count": 223,
   "id": "3cd4f75a",
   "metadata": {
    "ExecuteTime": {
     "end_time": "2023-11-30T05:30:08.416205Z",
     "start_time": "2023-11-30T05:30:08.411191Z"
    }
   },
   "outputs": [
    {
     "name": "stdout",
     "output_type": "stream",
     "text": [
      "Index(['App', 'Category', 'Rating', 'Reviews', 'Size', 'Installs', 'Type',\n",
      "       'Price', 'Content Rating', 'Genres', 'Last Updated', 'Current Ver',\n",
      "       'Android Ver', 'Rating_category'],\n",
      "      dtype='object')\n"
     ]
    }
   ],
   "source": [
    "print(df.columns)"
   ]
  },
  {
   "cell_type": "code",
   "execution_count": 225,
   "id": "884d8482",
   "metadata": {
    "ExecuteTime": {
     "end_time": "2023-11-30T05:55:46.634276Z",
     "start_time": "2023-11-30T05:55:46.627705Z"
    }
   },
   "outputs": [],
   "source": [
    "#dropping column rating\n",
    "df.drop(columns=['Rating','App','Genres','Last Updated', 'Current Ver','Android Ver' ],axis=1,inplace=True)"
   ]
  },
  {
   "cell_type": "code",
   "execution_count": 226,
   "id": "95e35ddb",
   "metadata": {
    "ExecuteTime": {
     "end_time": "2023-11-30T05:56:17.351942Z",
     "start_time": "2023-11-30T05:56:17.345726Z"
    }
   },
   "outputs": [
    {
     "data": {
      "text/plain": [
       "(7418, 8)"
      ]
     },
     "execution_count": 226,
     "metadata": {},
     "output_type": "execute_result"
    }
   ],
   "source": [
    "# shape of data after dropping redundant columns \n",
    "df.shape"
   ]
  },
  {
   "cell_type": "code",
   "execution_count": 227,
   "id": "8e207457",
   "metadata": {
    "ExecuteTime": {
     "end_time": "2023-11-30T05:56:25.368886Z",
     "start_time": "2023-11-30T05:56:25.349855Z"
    }
   },
   "outputs": [
    {
     "name": "stdout",
     "output_type": "stream",
     "text": [
      "<class 'pandas.core.frame.DataFrame'>\n",
      "Index: 7418 entries, 0 to 10356\n",
      "Data columns (total 8 columns):\n",
      " #   Column           Non-Null Count  Dtype  \n",
      "---  ------           --------------  -----  \n",
      " 0   Category         7418 non-null   object \n",
      " 1   Reviews          7418 non-null   float64\n",
      " 2   Size             7418 non-null   float64\n",
      " 3   Installs         7418 non-null   int32  \n",
      " 4   Type             7418 non-null   object \n",
      " 5   Price            7418 non-null   float64\n",
      " 6   Content Rating   7418 non-null   object \n",
      " 7   Rating_category  7418 non-null   object \n",
      "dtypes: float64(3), int32(1), object(4)\n",
      "memory usage: 492.6+ KB\n"
     ]
    }
   ],
   "source": [
    "df.info()"
   ]
  },
  {
   "cell_type": "markdown",
   "id": "0f6f7802",
   "metadata": {},
   "source": [
    "**13. Encode the categorical columns.**"
   ]
  },
  {
   "cell_type": "code",
   "execution_count": 229,
   "id": "72b41e36",
   "metadata": {
    "ExecuteTime": {
     "end_time": "2023-11-30T06:04:17.423786Z",
     "start_time": "2023-11-30T06:04:17.414009Z"
    }
   },
   "outputs": [
    {
     "name": "stdout",
     "output_type": "stream",
     "text": [
      "Category:  33\n",
      "Type:  2\n",
      "Content Rating:  6\n",
      "Rating_category:  2\n"
     ]
    }
   ],
   "source": [
    "for i in df.select_dtypes(include='object').columns:\n",
    "    print(f'{i}: ',df[i].nunique())"
   ]
  },
  {
   "cell_type": "code",
   "execution_count": 232,
   "id": "25d5cdba",
   "metadata": {
    "ExecuteTime": {
     "end_time": "2023-11-30T06:12:52.294801Z",
     "start_time": "2023-11-30T06:12:52.281819Z"
    }
   },
   "outputs": [],
   "source": [
    "df1=pd.get_dummies(data=df,columns=['Category','Type','Content Rating','Rating_category'],drop_first=True)"
   ]
  },
  {
   "cell_type": "code",
   "execution_count": 233,
   "id": "49b7af7c",
   "metadata": {
    "ExecuteTime": {
     "end_time": "2023-11-30T06:12:55.444092Z",
     "start_time": "2023-11-30T06:12:55.426581Z"
    }
   },
   "outputs": [
    {
     "name": "stdout",
     "output_type": "stream",
     "text": [
      "<class 'pandas.core.frame.DataFrame'>\n",
      "Index: 7418 entries, 0 to 10356\n",
      "Data columns (total 43 columns):\n",
      " #   Column                        Non-Null Count  Dtype  \n",
      "---  ------                        --------------  -----  \n",
      " 0   Reviews                       7418 non-null   float64\n",
      " 1   Size                          7418 non-null   float64\n",
      " 2   Installs                      7418 non-null   int32  \n",
      " 3   Price                         7418 non-null   float64\n",
      " 4   Category_AUTO_AND_VEHICLES    7418 non-null   bool   \n",
      " 5   Category_BEAUTY               7418 non-null   bool   \n",
      " 6   Category_BOOKS_AND_REFERENCE  7418 non-null   bool   \n",
      " 7   Category_BUSINESS             7418 non-null   bool   \n",
      " 8   Category_COMICS               7418 non-null   bool   \n",
      " 9   Category_COMMUNICATION        7418 non-null   bool   \n",
      " 10  Category_DATING               7418 non-null   bool   \n",
      " 11  Category_EDUCATION            7418 non-null   bool   \n",
      " 12  Category_ENTERTAINMENT        7418 non-null   bool   \n",
      " 13  Category_EVENTS               7418 non-null   bool   \n",
      " 14  Category_FAMILY               7418 non-null   bool   \n",
      " 15  Category_FINANCE              7418 non-null   bool   \n",
      " 16  Category_FOOD_AND_DRINK       7418 non-null   bool   \n",
      " 17  Category_GAME                 7418 non-null   bool   \n",
      " 18  Category_HEALTH_AND_FITNESS   7418 non-null   bool   \n",
      " 19  Category_HOUSE_AND_HOME       7418 non-null   bool   \n",
      " 20  Category_LIBRARIES_AND_DEMO   7418 non-null   bool   \n",
      " 21  Category_LIFESTYLE            7418 non-null   bool   \n",
      " 22  Category_MAPS_AND_NAVIGATION  7418 non-null   bool   \n",
      " 23  Category_MEDICAL              7418 non-null   bool   \n",
      " 24  Category_NEWS_AND_MAGAZINES   7418 non-null   bool   \n",
      " 25  Category_PARENTING            7418 non-null   bool   \n",
      " 26  Category_PERSONALIZATION      7418 non-null   bool   \n",
      " 27  Category_PHOTOGRAPHY          7418 non-null   bool   \n",
      " 28  Category_PRODUCTIVITY         7418 non-null   bool   \n",
      " 29  Category_SHOPPING             7418 non-null   bool   \n",
      " 30  Category_SOCIAL               7418 non-null   bool   \n",
      " 31  Category_SPORTS               7418 non-null   bool   \n",
      " 32  Category_TOOLS                7418 non-null   bool   \n",
      " 33  Category_TRAVEL_AND_LOCAL     7418 non-null   bool   \n",
      " 34  Category_VIDEO_PLAYERS        7418 non-null   bool   \n",
      " 35  Category_WEATHER              7418 non-null   bool   \n",
      " 36  Type_Paid                     7418 non-null   bool   \n",
      " 37  Content Rating_Everyone       7418 non-null   bool   \n",
      " 38  Content Rating_Everyone 10+   7418 non-null   bool   \n",
      " 39  Content Rating_Mature 17+     7418 non-null   bool   \n",
      " 40  Content Rating_Teen           7418 non-null   bool   \n",
      " 41  Content Rating_Unrated        7418 non-null   bool   \n",
      " 42  Rating_category_low           7418 non-null   bool   \n",
      "dtypes: bool(39), float64(3), int32(1)\n",
      "memory usage: 543.3 KB\n"
     ]
    }
   ],
   "source": [
    "df1.info()"
   ]
  },
  {
   "cell_type": "markdown",
   "id": "73b0b881",
   "metadata": {},
   "source": [
    "**14. Segregate the target and independent features (Hint: Use Rating_category as the target**"
   ]
  },
  {
   "cell_type": "code",
   "execution_count": 242,
   "id": "8c56dd22",
   "metadata": {
    "ExecuteTime": {
     "end_time": "2023-11-30T06:17:32.815240Z",
     "start_time": "2023-11-30T06:17:32.808267Z"
    }
   },
   "outputs": [],
   "source": [
    "x=df1.drop(['Rating_category_low'],axis=1)\n",
    "y=df1['Rating_category_low']"
   ]
  },
  {
   "cell_type": "code",
   "execution_count": 243,
   "id": "1b1a3014",
   "metadata": {
    "ExecuteTime": {
     "end_time": "2023-11-30T06:17:35.953216Z",
     "start_time": "2023-11-30T06:17:35.930637Z"
    }
   },
   "outputs": [
    {
     "data": {
      "text/html": [
       "<div>\n",
       "<style scoped>\n",
       "    .dataframe tbody tr th:only-of-type {\n",
       "        vertical-align: middle;\n",
       "    }\n",
       "\n",
       "    .dataframe tbody tr th {\n",
       "        vertical-align: top;\n",
       "    }\n",
       "\n",
       "    .dataframe thead th {\n",
       "        text-align: right;\n",
       "    }\n",
       "</style>\n",
       "<table border=\"1\" class=\"dataframe\">\n",
       "  <thead>\n",
       "    <tr style=\"text-align: right;\">\n",
       "      <th></th>\n",
       "      <th>Reviews</th>\n",
       "      <th>Size</th>\n",
       "      <th>Installs</th>\n",
       "      <th>Price</th>\n",
       "      <th>Category_AUTO_AND_VEHICLES</th>\n",
       "      <th>Category_BEAUTY</th>\n",
       "      <th>Category_BOOKS_AND_REFERENCE</th>\n",
       "      <th>Category_BUSINESS</th>\n",
       "      <th>Category_COMICS</th>\n",
       "      <th>Category_COMMUNICATION</th>\n",
       "      <th>...</th>\n",
       "      <th>Category_TOOLS</th>\n",
       "      <th>Category_TRAVEL_AND_LOCAL</th>\n",
       "      <th>Category_VIDEO_PLAYERS</th>\n",
       "      <th>Category_WEATHER</th>\n",
       "      <th>Type_Paid</th>\n",
       "      <th>Content Rating_Everyone</th>\n",
       "      <th>Content Rating_Everyone 10+</th>\n",
       "      <th>Content Rating_Mature 17+</th>\n",
       "      <th>Content Rating_Teen</th>\n",
       "      <th>Content Rating_Unrated</th>\n",
       "    </tr>\n",
       "  </thead>\n",
       "  <tbody>\n",
       "    <tr>\n",
       "      <th>0</th>\n",
       "      <td>5.075174</td>\n",
       "      <td>19000000.0</td>\n",
       "      <td>10000</td>\n",
       "      <td>0.0</td>\n",
       "      <td>False</td>\n",
       "      <td>False</td>\n",
       "      <td>False</td>\n",
       "      <td>False</td>\n",
       "      <td>False</td>\n",
       "      <td>False</td>\n",
       "      <td>...</td>\n",
       "      <td>False</td>\n",
       "      <td>False</td>\n",
       "      <td>False</td>\n",
       "      <td>False</td>\n",
       "      <td>False</td>\n",
       "      <td>True</td>\n",
       "      <td>False</td>\n",
       "      <td>False</td>\n",
       "      <td>False</td>\n",
       "      <td>False</td>\n",
       "    </tr>\n",
       "    <tr>\n",
       "      <th>1</th>\n",
       "      <td>6.875232</td>\n",
       "      <td>14000000.0</td>\n",
       "      <td>500000</td>\n",
       "      <td>0.0</td>\n",
       "      <td>False</td>\n",
       "      <td>False</td>\n",
       "      <td>False</td>\n",
       "      <td>False</td>\n",
       "      <td>False</td>\n",
       "      <td>False</td>\n",
       "      <td>...</td>\n",
       "      <td>False</td>\n",
       "      <td>False</td>\n",
       "      <td>False</td>\n",
       "      <td>False</td>\n",
       "      <td>False</td>\n",
       "      <td>True</td>\n",
       "      <td>False</td>\n",
       "      <td>False</td>\n",
       "      <td>False</td>\n",
       "      <td>False</td>\n",
       "    </tr>\n",
       "    <tr>\n",
       "      <th>2</th>\n",
       "      <td>11.379520</td>\n",
       "      <td>8700000.0</td>\n",
       "      <td>5000000</td>\n",
       "      <td>0.0</td>\n",
       "      <td>False</td>\n",
       "      <td>False</td>\n",
       "      <td>False</td>\n",
       "      <td>False</td>\n",
       "      <td>False</td>\n",
       "      <td>False</td>\n",
       "      <td>...</td>\n",
       "      <td>False</td>\n",
       "      <td>False</td>\n",
       "      <td>False</td>\n",
       "      <td>False</td>\n",
       "      <td>False</td>\n",
       "      <td>True</td>\n",
       "      <td>False</td>\n",
       "      <td>False</td>\n",
       "      <td>False</td>\n",
       "      <td>False</td>\n",
       "    </tr>\n",
       "    <tr>\n",
       "      <th>3</th>\n",
       "      <td>12.281389</td>\n",
       "      <td>25000000.0</td>\n",
       "      <td>50000000</td>\n",
       "      <td>0.0</td>\n",
       "      <td>False</td>\n",
       "      <td>False</td>\n",
       "      <td>False</td>\n",
       "      <td>False</td>\n",
       "      <td>False</td>\n",
       "      <td>False</td>\n",
       "      <td>...</td>\n",
       "      <td>False</td>\n",
       "      <td>False</td>\n",
       "      <td>False</td>\n",
       "      <td>False</td>\n",
       "      <td>False</td>\n",
       "      <td>False</td>\n",
       "      <td>False</td>\n",
       "      <td>False</td>\n",
       "      <td>True</td>\n",
       "      <td>False</td>\n",
       "    </tr>\n",
       "    <tr>\n",
       "      <th>4</th>\n",
       "      <td>6.875232</td>\n",
       "      <td>2800000.0</td>\n",
       "      <td>100000</td>\n",
       "      <td>0.0</td>\n",
       "      <td>False</td>\n",
       "      <td>False</td>\n",
       "      <td>False</td>\n",
       "      <td>False</td>\n",
       "      <td>False</td>\n",
       "      <td>False</td>\n",
       "      <td>...</td>\n",
       "      <td>False</td>\n",
       "      <td>False</td>\n",
       "      <td>False</td>\n",
       "      <td>False</td>\n",
       "      <td>False</td>\n",
       "      <td>True</td>\n",
       "      <td>False</td>\n",
       "      <td>False</td>\n",
       "      <td>False</td>\n",
       "      <td>False</td>\n",
       "    </tr>\n",
       "  </tbody>\n",
       "</table>\n",
       "<p>5 rows × 42 columns</p>\n",
       "</div>"
      ],
      "text/plain": [
       "     Reviews        Size  Installs  Price  Category_AUTO_AND_VEHICLES  \\\n",
       "0   5.075174  19000000.0     10000    0.0                       False   \n",
       "1   6.875232  14000000.0    500000    0.0                       False   \n",
       "2  11.379520   8700000.0   5000000    0.0                       False   \n",
       "3  12.281389  25000000.0  50000000    0.0                       False   \n",
       "4   6.875232   2800000.0    100000    0.0                       False   \n",
       "\n",
       "   Category_BEAUTY  Category_BOOKS_AND_REFERENCE  Category_BUSINESS  \\\n",
       "0            False                         False              False   \n",
       "1            False                         False              False   \n",
       "2            False                         False              False   \n",
       "3            False                         False              False   \n",
       "4            False                         False              False   \n",
       "\n",
       "   Category_COMICS  Category_COMMUNICATION  ...  Category_TOOLS  \\\n",
       "0            False                   False  ...           False   \n",
       "1            False                   False  ...           False   \n",
       "2            False                   False  ...           False   \n",
       "3            False                   False  ...           False   \n",
       "4            False                   False  ...           False   \n",
       "\n",
       "   Category_TRAVEL_AND_LOCAL  Category_VIDEO_PLAYERS  Category_WEATHER  \\\n",
       "0                      False                   False             False   \n",
       "1                      False                   False             False   \n",
       "2                      False                   False             False   \n",
       "3                      False                   False             False   \n",
       "4                      False                   False             False   \n",
       "\n",
       "   Type_Paid  Content Rating_Everyone  Content Rating_Everyone 10+  \\\n",
       "0      False                     True                        False   \n",
       "1      False                     True                        False   \n",
       "2      False                     True                        False   \n",
       "3      False                    False                        False   \n",
       "4      False                     True                        False   \n",
       "\n",
       "   Content Rating_Mature 17+  Content Rating_Teen  Content Rating_Unrated  \n",
       "0                      False                False                   False  \n",
       "1                      False                False                   False  \n",
       "2                      False                False                   False  \n",
       "3                      False                 True                   False  \n",
       "4                      False                False                   False  \n",
       "\n",
       "[5 rows x 42 columns]"
      ]
     },
     "execution_count": 243,
     "metadata": {},
     "output_type": "execute_result"
    }
   ],
   "source": [
    "x.head()"
   ]
  },
  {
   "cell_type": "code",
   "execution_count": 244,
   "id": "90fa0f28",
   "metadata": {
    "ExecuteTime": {
     "end_time": "2023-11-30T06:17:52.046711Z",
     "start_time": "2023-11-30T06:17:52.039789Z"
    }
   },
   "outputs": [
    {
     "data": {
      "text/plain": [
       "0    False\n",
       "1    False\n",
       "2    False\n",
       "3    False\n",
       "4    False\n",
       "Name: Rating_category_low, dtype: bool"
      ]
     },
     "execution_count": 244,
     "metadata": {},
     "output_type": "execute_result"
    }
   ],
   "source": [
    "y.head()"
   ]
  },
  {
   "cell_type": "markdown",
   "id": "a0b86718",
   "metadata": {},
   "source": [
    "**15. Split the dataset into train and test.**"
   ]
  },
  {
   "cell_type": "code",
   "execution_count": 247,
   "id": "4347ad77",
   "metadata": {
    "ExecuteTime": {
     "end_time": "2023-11-30T06:20:53.187421Z",
     "start_time": "2023-11-30T06:20:53.164602Z"
    }
   },
   "outputs": [],
   "source": [
    "x_train,x_test,y_train,y_test = train_test_split(x,y,test_size=0.30,random_state=42,stratify=y)"
   ]
  },
  {
   "cell_type": "code",
   "execution_count": 250,
   "id": "4b08e734",
   "metadata": {
    "ExecuteTime": {
     "end_time": "2023-11-30T06:21:23.747445Z",
     "start_time": "2023-11-30T06:21:23.712549Z"
    }
   },
   "outputs": [
    {
     "data": {
      "text/html": [
       "<div>\n",
       "<style scoped>\n",
       "    .dataframe tbody tr th:only-of-type {\n",
       "        vertical-align: middle;\n",
       "    }\n",
       "\n",
       "    .dataframe tbody tr th {\n",
       "        vertical-align: top;\n",
       "    }\n",
       "\n",
       "    .dataframe thead th {\n",
       "        text-align: right;\n",
       "    }\n",
       "</style>\n",
       "<table border=\"1\" class=\"dataframe\">\n",
       "  <thead>\n",
       "    <tr style=\"text-align: right;\">\n",
       "      <th></th>\n",
       "      <th>Reviews</th>\n",
       "      <th>Size</th>\n",
       "      <th>Installs</th>\n",
       "      <th>Price</th>\n",
       "      <th>Category_AUTO_AND_VEHICLES</th>\n",
       "      <th>Category_BEAUTY</th>\n",
       "      <th>Category_BOOKS_AND_REFERENCE</th>\n",
       "      <th>Category_BUSINESS</th>\n",
       "      <th>Category_COMICS</th>\n",
       "      <th>Category_COMMUNICATION</th>\n",
       "      <th>...</th>\n",
       "      <th>Category_TOOLS</th>\n",
       "      <th>Category_TRAVEL_AND_LOCAL</th>\n",
       "      <th>Category_VIDEO_PLAYERS</th>\n",
       "      <th>Category_WEATHER</th>\n",
       "      <th>Type_Paid</th>\n",
       "      <th>Content Rating_Everyone</th>\n",
       "      <th>Content Rating_Everyone 10+</th>\n",
       "      <th>Content Rating_Mature 17+</th>\n",
       "      <th>Content Rating_Teen</th>\n",
       "      <th>Content Rating_Unrated</th>\n",
       "    </tr>\n",
       "  </thead>\n",
       "  <tbody>\n",
       "    <tr>\n",
       "      <th>1846</th>\n",
       "      <td>5.081404</td>\n",
       "      <td>67000000.0</td>\n",
       "      <td>50000</td>\n",
       "      <td>0.00</td>\n",
       "      <td>False</td>\n",
       "      <td>False</td>\n",
       "      <td>False</td>\n",
       "      <td>False</td>\n",
       "      <td>False</td>\n",
       "      <td>False</td>\n",
       "      <td>...</td>\n",
       "      <td>False</td>\n",
       "      <td>False</td>\n",
       "      <td>False</td>\n",
       "      <td>False</td>\n",
       "      <td>False</td>\n",
       "      <td>True</td>\n",
       "      <td>False</td>\n",
       "      <td>False</td>\n",
       "      <td>False</td>\n",
       "      <td>False</td>\n",
       "    </tr>\n",
       "    <tr>\n",
       "      <th>32</th>\n",
       "      <td>8.524367</td>\n",
       "      <td>11000000.0</td>\n",
       "      <td>100000</td>\n",
       "      <td>0.00</td>\n",
       "      <td>False</td>\n",
       "      <td>False</td>\n",
       "      <td>False</td>\n",
       "      <td>False</td>\n",
       "      <td>False</td>\n",
       "      <td>False</td>\n",
       "      <td>...</td>\n",
       "      <td>False</td>\n",
       "      <td>False</td>\n",
       "      <td>False</td>\n",
       "      <td>False</td>\n",
       "      <td>False</td>\n",
       "      <td>True</td>\n",
       "      <td>False</td>\n",
       "      <td>False</td>\n",
       "      <td>False</td>\n",
       "      <td>False</td>\n",
       "    </tr>\n",
       "    <tr>\n",
       "      <th>9554</th>\n",
       "      <td>9.179881</td>\n",
       "      <td>23000000.0</td>\n",
       "      <td>100000</td>\n",
       "      <td>0.99</td>\n",
       "      <td>False</td>\n",
       "      <td>False</td>\n",
       "      <td>False</td>\n",
       "      <td>False</td>\n",
       "      <td>False</td>\n",
       "      <td>False</td>\n",
       "      <td>...</td>\n",
       "      <td>False</td>\n",
       "      <td>False</td>\n",
       "      <td>False</td>\n",
       "      <td>False</td>\n",
       "      <td>True</td>\n",
       "      <td>False</td>\n",
       "      <td>False</td>\n",
       "      <td>False</td>\n",
       "      <td>True</td>\n",
       "      <td>False</td>\n",
       "    </tr>\n",
       "    <tr>\n",
       "      <th>4662</th>\n",
       "      <td>4.174387</td>\n",
       "      <td>15000000.0</td>\n",
       "      <td>10000</td>\n",
       "      <td>0.00</td>\n",
       "      <td>False</td>\n",
       "      <td>False</td>\n",
       "      <td>False</td>\n",
       "      <td>False</td>\n",
       "      <td>False</td>\n",
       "      <td>False</td>\n",
       "      <td>...</td>\n",
       "      <td>False</td>\n",
       "      <td>False</td>\n",
       "      <td>False</td>\n",
       "      <td>False</td>\n",
       "      <td>False</td>\n",
       "      <td>True</td>\n",
       "      <td>False</td>\n",
       "      <td>False</td>\n",
       "      <td>False</td>\n",
       "      <td>False</td>\n",
       "    </tr>\n",
       "    <tr>\n",
       "      <th>7284</th>\n",
       "      <td>2.890372</td>\n",
       "      <td>1500000.0</td>\n",
       "      <td>50</td>\n",
       "      <td>0.00</td>\n",
       "      <td>False</td>\n",
       "      <td>False</td>\n",
       "      <td>False</td>\n",
       "      <td>False</td>\n",
       "      <td>False</td>\n",
       "      <td>False</td>\n",
       "      <td>...</td>\n",
       "      <td>False</td>\n",
       "      <td>False</td>\n",
       "      <td>False</td>\n",
       "      <td>False</td>\n",
       "      <td>False</td>\n",
       "      <td>True</td>\n",
       "      <td>False</td>\n",
       "      <td>False</td>\n",
       "      <td>False</td>\n",
       "      <td>False</td>\n",
       "    </tr>\n",
       "  </tbody>\n",
       "</table>\n",
       "<p>5 rows × 42 columns</p>\n",
       "</div>"
      ],
      "text/plain": [
       "       Reviews        Size  Installs  Price  Category_AUTO_AND_VEHICLES  \\\n",
       "1846  5.081404  67000000.0     50000   0.00                       False   \n",
       "32    8.524367  11000000.0    100000   0.00                       False   \n",
       "9554  9.179881  23000000.0    100000   0.99                       False   \n",
       "4662  4.174387  15000000.0     10000   0.00                       False   \n",
       "7284  2.890372   1500000.0        50   0.00                       False   \n",
       "\n",
       "      Category_BEAUTY  Category_BOOKS_AND_REFERENCE  Category_BUSINESS  \\\n",
       "1846            False                         False              False   \n",
       "32              False                         False              False   \n",
       "9554            False                         False              False   \n",
       "4662            False                         False              False   \n",
       "7284            False                         False              False   \n",
       "\n",
       "      Category_COMICS  Category_COMMUNICATION  ...  Category_TOOLS  \\\n",
       "1846            False                   False  ...           False   \n",
       "32              False                   False  ...           False   \n",
       "9554            False                   False  ...           False   \n",
       "4662            False                   False  ...           False   \n",
       "7284            False                   False  ...           False   \n",
       "\n",
       "      Category_TRAVEL_AND_LOCAL  Category_VIDEO_PLAYERS  Category_WEATHER  \\\n",
       "1846                      False                   False             False   \n",
       "32                        False                   False             False   \n",
       "9554                      False                   False             False   \n",
       "4662                      False                   False             False   \n",
       "7284                      False                   False             False   \n",
       "\n",
       "      Type_Paid  Content Rating_Everyone  Content Rating_Everyone 10+  \\\n",
       "1846      False                     True                        False   \n",
       "32        False                     True                        False   \n",
       "9554       True                    False                        False   \n",
       "4662      False                     True                        False   \n",
       "7284      False                     True                        False   \n",
       "\n",
       "      Content Rating_Mature 17+  Content Rating_Teen  Content Rating_Unrated  \n",
       "1846                      False                False                   False  \n",
       "32                        False                False                   False  \n",
       "9554                      False                 True                   False  \n",
       "4662                      False                False                   False  \n",
       "7284                      False                False                   False  \n",
       "\n",
       "[5 rows x 42 columns]"
      ]
     },
     "execution_count": 250,
     "metadata": {},
     "output_type": "execute_result"
    }
   ],
   "source": [
    "x_train.head()"
   ]
  },
  {
   "cell_type": "code",
   "execution_count": 251,
   "id": "c16a6ad4",
   "metadata": {
    "ExecuteTime": {
     "end_time": "2023-11-30T06:21:52.893862Z",
     "start_time": "2023-11-30T06:21:52.870961Z"
    }
   },
   "outputs": [
    {
     "data": {
      "text/html": [
       "<div>\n",
       "<style scoped>\n",
       "    .dataframe tbody tr th:only-of-type {\n",
       "        vertical-align: middle;\n",
       "    }\n",
       "\n",
       "    .dataframe tbody tr th {\n",
       "        vertical-align: top;\n",
       "    }\n",
       "\n",
       "    .dataframe thead th {\n",
       "        text-align: right;\n",
       "    }\n",
       "</style>\n",
       "<table border=\"1\" class=\"dataframe\">\n",
       "  <thead>\n",
       "    <tr style=\"text-align: right;\">\n",
       "      <th></th>\n",
       "      <th>Reviews</th>\n",
       "      <th>Size</th>\n",
       "      <th>Installs</th>\n",
       "      <th>Price</th>\n",
       "      <th>Category_AUTO_AND_VEHICLES</th>\n",
       "      <th>Category_BEAUTY</th>\n",
       "      <th>Category_BOOKS_AND_REFERENCE</th>\n",
       "      <th>Category_BUSINESS</th>\n",
       "      <th>Category_COMICS</th>\n",
       "      <th>Category_COMMUNICATION</th>\n",
       "      <th>...</th>\n",
       "      <th>Category_TOOLS</th>\n",
       "      <th>Category_TRAVEL_AND_LOCAL</th>\n",
       "      <th>Category_VIDEO_PLAYERS</th>\n",
       "      <th>Category_WEATHER</th>\n",
       "      <th>Type_Paid</th>\n",
       "      <th>Content Rating_Everyone</th>\n",
       "      <th>Content Rating_Everyone 10+</th>\n",
       "      <th>Content Rating_Mature 17+</th>\n",
       "      <th>Content Rating_Teen</th>\n",
       "      <th>Content Rating_Unrated</th>\n",
       "    </tr>\n",
       "  </thead>\n",
       "  <tbody>\n",
       "    <tr>\n",
       "      <th>5441</th>\n",
       "      <td>4.700480</td>\n",
       "      <td>30000000.0</td>\n",
       "      <td>10000</td>\n",
       "      <td>0.00</td>\n",
       "      <td>False</td>\n",
       "      <td>False</td>\n",
       "      <td>False</td>\n",
       "      <td>False</td>\n",
       "      <td>False</td>\n",
       "      <td>False</td>\n",
       "      <td>...</td>\n",
       "      <td>False</td>\n",
       "      <td>False</td>\n",
       "      <td>False</td>\n",
       "      <td>False</td>\n",
       "      <td>False</td>\n",
       "      <td>True</td>\n",
       "      <td>False</td>\n",
       "      <td>False</td>\n",
       "      <td>False</td>\n",
       "      <td>False</td>\n",
       "    </tr>\n",
       "    <tr>\n",
       "      <th>9560</th>\n",
       "      <td>5.129899</td>\n",
       "      <td>170000.0</td>\n",
       "      <td>5000</td>\n",
       "      <td>4.99</td>\n",
       "      <td>False</td>\n",
       "      <td>False</td>\n",
       "      <td>False</td>\n",
       "      <td>False</td>\n",
       "      <td>False</td>\n",
       "      <td>False</td>\n",
       "      <td>...</td>\n",
       "      <td>True</td>\n",
       "      <td>False</td>\n",
       "      <td>False</td>\n",
       "      <td>False</td>\n",
       "      <td>True</td>\n",
       "      <td>True</td>\n",
       "      <td>False</td>\n",
       "      <td>False</td>\n",
       "      <td>False</td>\n",
       "      <td>False</td>\n",
       "    </tr>\n",
       "    <tr>\n",
       "      <th>9824</th>\n",
       "      <td>2.772589</td>\n",
       "      <td>26000000.0</td>\n",
       "      <td>1000</td>\n",
       "      <td>0.00</td>\n",
       "      <td>False</td>\n",
       "      <td>False</td>\n",
       "      <td>False</td>\n",
       "      <td>False</td>\n",
       "      <td>False</td>\n",
       "      <td>False</td>\n",
       "      <td>...</td>\n",
       "      <td>False</td>\n",
       "      <td>False</td>\n",
       "      <td>False</td>\n",
       "      <td>False</td>\n",
       "      <td>False</td>\n",
       "      <td>True</td>\n",
       "      <td>False</td>\n",
       "      <td>False</td>\n",
       "      <td>False</td>\n",
       "      <td>False</td>\n",
       "    </tr>\n",
       "    <tr>\n",
       "      <th>3984</th>\n",
       "      <td>9.604610</td>\n",
       "      <td>8600000.0</td>\n",
       "      <td>1000000</td>\n",
       "      <td>0.00</td>\n",
       "      <td>False</td>\n",
       "      <td>False</td>\n",
       "      <td>False</td>\n",
       "      <td>False</td>\n",
       "      <td>False</td>\n",
       "      <td>False</td>\n",
       "      <td>...</td>\n",
       "      <td>False</td>\n",
       "      <td>False</td>\n",
       "      <td>False</td>\n",
       "      <td>False</td>\n",
       "      <td>False</td>\n",
       "      <td>True</td>\n",
       "      <td>False</td>\n",
       "      <td>False</td>\n",
       "      <td>False</td>\n",
       "      <td>False</td>\n",
       "    </tr>\n",
       "    <tr>\n",
       "      <th>1453</th>\n",
       "      <td>16.956793</td>\n",
       "      <td>97000000.0</td>\n",
       "      <td>100000000</td>\n",
       "      <td>0.00</td>\n",
       "      <td>False</td>\n",
       "      <td>False</td>\n",
       "      <td>False</td>\n",
       "      <td>False</td>\n",
       "      <td>False</td>\n",
       "      <td>False</td>\n",
       "      <td>...</td>\n",
       "      <td>False</td>\n",
       "      <td>False</td>\n",
       "      <td>False</td>\n",
       "      <td>False</td>\n",
       "      <td>False</td>\n",
       "      <td>False</td>\n",
       "      <td>True</td>\n",
       "      <td>False</td>\n",
       "      <td>False</td>\n",
       "      <td>False</td>\n",
       "    </tr>\n",
       "  </tbody>\n",
       "</table>\n",
       "<p>5 rows × 42 columns</p>\n",
       "</div>"
      ],
      "text/plain": [
       "        Reviews        Size   Installs  Price  Category_AUTO_AND_VEHICLES  \\\n",
       "5441   4.700480  30000000.0      10000   0.00                       False   \n",
       "9560   5.129899    170000.0       5000   4.99                       False   \n",
       "9824   2.772589  26000000.0       1000   0.00                       False   \n",
       "3984   9.604610   8600000.0    1000000   0.00                       False   \n",
       "1453  16.956793  97000000.0  100000000   0.00                       False   \n",
       "\n",
       "      Category_BEAUTY  Category_BOOKS_AND_REFERENCE  Category_BUSINESS  \\\n",
       "5441            False                         False              False   \n",
       "9560            False                         False              False   \n",
       "9824            False                         False              False   \n",
       "3984            False                         False              False   \n",
       "1453            False                         False              False   \n",
       "\n",
       "      Category_COMICS  Category_COMMUNICATION  ...  Category_TOOLS  \\\n",
       "5441            False                   False  ...           False   \n",
       "9560            False                   False  ...            True   \n",
       "9824            False                   False  ...           False   \n",
       "3984            False                   False  ...           False   \n",
       "1453            False                   False  ...           False   \n",
       "\n",
       "      Category_TRAVEL_AND_LOCAL  Category_VIDEO_PLAYERS  Category_WEATHER  \\\n",
       "5441                      False                   False             False   \n",
       "9560                      False                   False             False   \n",
       "9824                      False                   False             False   \n",
       "3984                      False                   False             False   \n",
       "1453                      False                   False             False   \n",
       "\n",
       "      Type_Paid  Content Rating_Everyone  Content Rating_Everyone 10+  \\\n",
       "5441      False                     True                        False   \n",
       "9560       True                     True                        False   \n",
       "9824      False                     True                        False   \n",
       "3984      False                     True                        False   \n",
       "1453      False                    False                         True   \n",
       "\n",
       "      Content Rating_Mature 17+  Content Rating_Teen  Content Rating_Unrated  \n",
       "5441                      False                False                   False  \n",
       "9560                      False                False                   False  \n",
       "9824                      False                False                   False  \n",
       "3984                      False                False                   False  \n",
       "1453                      False                False                   False  \n",
       "\n",
       "[5 rows x 42 columns]"
      ]
     },
     "execution_count": 251,
     "metadata": {},
     "output_type": "execute_result"
    }
   ],
   "source": [
    "x_test.head()"
   ]
  },
  {
   "cell_type": "code",
   "execution_count": 252,
   "id": "4a8fca32",
   "metadata": {
    "ExecuteTime": {
     "end_time": "2023-11-30T06:22:05.499564Z",
     "start_time": "2023-11-30T06:22:05.492049Z"
    }
   },
   "outputs": [
    {
     "data": {
      "text/plain": [
       "1846    False\n",
       "32      False\n",
       "9554    False\n",
       "4662    False\n",
       "7284    False\n",
       "Name: Rating_category_low, dtype: bool"
      ]
     },
     "execution_count": 252,
     "metadata": {},
     "output_type": "execute_result"
    }
   ],
   "source": [
    "y_train.head()"
   ]
  },
  {
   "cell_type": "code",
   "execution_count": 253,
   "id": "3b1743df",
   "metadata": {
    "ExecuteTime": {
     "end_time": "2023-11-30T06:22:13.506057Z",
     "start_time": "2023-11-30T06:22:13.498134Z"
    }
   },
   "outputs": [
    {
     "data": {
      "text/plain": [
       "5441    False\n",
       "9560     True\n",
       "9824    False\n",
       "3984    False\n",
       "1453    False\n",
       "Name: Rating_category_low, dtype: bool"
      ]
     },
     "execution_count": 253,
     "metadata": {},
     "output_type": "execute_result"
    }
   ],
   "source": [
    "y_test.head()"
   ]
  },
  {
   "cell_type": "code",
   "execution_count": 255,
   "id": "60be7956",
   "metadata": {
    "ExecuteTime": {
     "end_time": "2023-11-30T06:24:13.044831Z",
     "start_time": "2023-11-30T06:24:13.039335Z"
    }
   },
   "outputs": [
    {
     "name": "stdout",
     "output_type": "stream",
     "text": [
      "The shape of x_train: (5192, 42)\n",
      "The shape of x_test: (2226, 42)\n",
      "The shape of y_train: (5192,)\n",
      "The shape of y_test: (2226,)\n"
     ]
    }
   ],
   "source": [
    "print('The shape of x_train:',x_train.shape)\n",
    "print('The shape of x_test:',x_test.shape)\n",
    "print('The shape of y_train:',y_train.shape)\n",
    "print('The shape of y_test:',y_test.shape)"
   ]
  },
  {
   "cell_type": "markdown",
   "id": "7f0c5537",
   "metadata": {},
   "source": [
    "**16. Standardize the data, so that the values are within a particular range.**"
   ]
  },
  {
   "cell_type": "code",
   "execution_count": 260,
   "id": "e56d1c14",
   "metadata": {
    "ExecuteTime": {
     "end_time": "2023-11-30T06:30:43.548432Z",
     "start_time": "2023-11-30T06:30:43.525826Z"
    }
   },
   "outputs": [],
   "source": [
    "scaler = StandardScaler()\n",
    "for i in x_train.select_dtypes(exclude='bool').columns:\n",
    "    x_train[i]=scaler.fit_transform(x_train[[i]])\n",
    "    "
   ]
  },
  {
   "cell_type": "code",
   "execution_count": 265,
   "id": "7422c206",
   "metadata": {
    "ExecuteTime": {
     "end_time": "2023-11-30T06:34:46.182054Z",
     "start_time": "2023-11-30T06:34:46.161338Z"
    }
   },
   "outputs": [],
   "source": [
    "\n",
    "for i in x_test.select_dtypes(exclude='bool').columns:\n",
    "    x_test[i] = scaler.fit_transform(x_test[[i]])"
   ]
  },
  {
   "cell_type": "code",
   "execution_count": 266,
   "id": "3d51d20b",
   "metadata": {
    "ExecuteTime": {
     "end_time": "2023-11-30T06:35:01.942858Z",
     "start_time": "2023-11-30T06:35:01.904176Z"
    }
   },
   "outputs": [
    {
     "data": {
      "text/html": [
       "<div>\n",
       "<style scoped>\n",
       "    .dataframe tbody tr th:only-of-type {\n",
       "        vertical-align: middle;\n",
       "    }\n",
       "\n",
       "    .dataframe tbody tr th {\n",
       "        vertical-align: top;\n",
       "    }\n",
       "\n",
       "    .dataframe thead th {\n",
       "        text-align: right;\n",
       "    }\n",
       "</style>\n",
       "<table border=\"1\" class=\"dataframe\">\n",
       "  <thead>\n",
       "    <tr style=\"text-align: right;\">\n",
       "      <th></th>\n",
       "      <th>Reviews</th>\n",
       "      <th>Size</th>\n",
       "      <th>Installs</th>\n",
       "      <th>Price</th>\n",
       "      <th>Category_AUTO_AND_VEHICLES</th>\n",
       "      <th>Category_BEAUTY</th>\n",
       "      <th>Category_BOOKS_AND_REFERENCE</th>\n",
       "      <th>Category_BUSINESS</th>\n",
       "      <th>Category_COMICS</th>\n",
       "      <th>Category_COMMUNICATION</th>\n",
       "      <th>...</th>\n",
       "      <th>Category_TOOLS</th>\n",
       "      <th>Category_TRAVEL_AND_LOCAL</th>\n",
       "      <th>Category_VIDEO_PLAYERS</th>\n",
       "      <th>Category_WEATHER</th>\n",
       "      <th>Type_Paid</th>\n",
       "      <th>Content Rating_Everyone</th>\n",
       "      <th>Content Rating_Everyone 10+</th>\n",
       "      <th>Content Rating_Mature 17+</th>\n",
       "      <th>Content Rating_Teen</th>\n",
       "      <th>Content Rating_Unrated</th>\n",
       "    </tr>\n",
       "  </thead>\n",
       "  <tbody>\n",
       "    <tr>\n",
       "      <th>1846</th>\n",
       "      <td>-0.682813</td>\n",
       "      <td>1.867656</td>\n",
       "      <td>-0.165160</td>\n",
       "      <td>-0.064906</td>\n",
       "      <td>False</td>\n",
       "      <td>False</td>\n",
       "      <td>False</td>\n",
       "      <td>False</td>\n",
       "      <td>False</td>\n",
       "      <td>False</td>\n",
       "      <td>...</td>\n",
       "      <td>False</td>\n",
       "      <td>False</td>\n",
       "      <td>False</td>\n",
       "      <td>False</td>\n",
       "      <td>False</td>\n",
       "      <td>True</td>\n",
       "      <td>False</td>\n",
       "      <td>False</td>\n",
       "      <td>False</td>\n",
       "      <td>False</td>\n",
       "    </tr>\n",
       "    <tr>\n",
       "      <th>32</th>\n",
       "      <td>0.247690</td>\n",
       "      <td>-0.501998</td>\n",
       "      <td>-0.164111</td>\n",
       "      <td>-0.064906</td>\n",
       "      <td>False</td>\n",
       "      <td>False</td>\n",
       "      <td>False</td>\n",
       "      <td>False</td>\n",
       "      <td>False</td>\n",
       "      <td>False</td>\n",
       "      <td>...</td>\n",
       "      <td>False</td>\n",
       "      <td>False</td>\n",
       "      <td>False</td>\n",
       "      <td>False</td>\n",
       "      <td>False</td>\n",
       "      <td>True</td>\n",
       "      <td>False</td>\n",
       "      <td>False</td>\n",
       "      <td>False</td>\n",
       "      <td>False</td>\n",
       "    </tr>\n",
       "    <tr>\n",
       "      <th>9554</th>\n",
       "      <td>0.424851</td>\n",
       "      <td>0.005785</td>\n",
       "      <td>-0.164111</td>\n",
       "      <td>-0.009943</td>\n",
       "      <td>False</td>\n",
       "      <td>False</td>\n",
       "      <td>False</td>\n",
       "      <td>False</td>\n",
       "      <td>False</td>\n",
       "      <td>False</td>\n",
       "      <td>...</td>\n",
       "      <td>False</td>\n",
       "      <td>False</td>\n",
       "      <td>False</td>\n",
       "      <td>False</td>\n",
       "      <td>True</td>\n",
       "      <td>False</td>\n",
       "      <td>False</td>\n",
       "      <td>False</td>\n",
       "      <td>True</td>\n",
       "      <td>False</td>\n",
       "    </tr>\n",
       "    <tr>\n",
       "      <th>4662</th>\n",
       "      <td>-0.927946</td>\n",
       "      <td>-0.332737</td>\n",
       "      <td>-0.166000</td>\n",
       "      <td>-0.064906</td>\n",
       "      <td>False</td>\n",
       "      <td>False</td>\n",
       "      <td>False</td>\n",
       "      <td>False</td>\n",
       "      <td>False</td>\n",
       "      <td>False</td>\n",
       "      <td>...</td>\n",
       "      <td>False</td>\n",
       "      <td>False</td>\n",
       "      <td>False</td>\n",
       "      <td>False</td>\n",
       "      <td>False</td>\n",
       "      <td>True</td>\n",
       "      <td>False</td>\n",
       "      <td>False</td>\n",
       "      <td>False</td>\n",
       "      <td>False</td>\n",
       "    </tr>\n",
       "    <tr>\n",
       "      <th>7284</th>\n",
       "      <td>-1.274967</td>\n",
       "      <td>-0.903992</td>\n",
       "      <td>-0.166209</td>\n",
       "      <td>-0.064906</td>\n",
       "      <td>False</td>\n",
       "      <td>False</td>\n",
       "      <td>False</td>\n",
       "      <td>False</td>\n",
       "      <td>False</td>\n",
       "      <td>False</td>\n",
       "      <td>...</td>\n",
       "      <td>False</td>\n",
       "      <td>False</td>\n",
       "      <td>False</td>\n",
       "      <td>False</td>\n",
       "      <td>False</td>\n",
       "      <td>True</td>\n",
       "      <td>False</td>\n",
       "      <td>False</td>\n",
       "      <td>False</td>\n",
       "      <td>False</td>\n",
       "    </tr>\n",
       "  </tbody>\n",
       "</table>\n",
       "<p>5 rows × 42 columns</p>\n",
       "</div>"
      ],
      "text/plain": [
       "       Reviews      Size  Installs     Price  Category_AUTO_AND_VEHICLES  \\\n",
       "1846 -0.682813  1.867656 -0.165160 -0.064906                       False   \n",
       "32    0.247690 -0.501998 -0.164111 -0.064906                       False   \n",
       "9554  0.424851  0.005785 -0.164111 -0.009943                       False   \n",
       "4662 -0.927946 -0.332737 -0.166000 -0.064906                       False   \n",
       "7284 -1.274967 -0.903992 -0.166209 -0.064906                       False   \n",
       "\n",
       "      Category_BEAUTY  Category_BOOKS_AND_REFERENCE  Category_BUSINESS  \\\n",
       "1846            False                         False              False   \n",
       "32              False                         False              False   \n",
       "9554            False                         False              False   \n",
       "4662            False                         False              False   \n",
       "7284            False                         False              False   \n",
       "\n",
       "      Category_COMICS  Category_COMMUNICATION  ...  Category_TOOLS  \\\n",
       "1846            False                   False  ...           False   \n",
       "32              False                   False  ...           False   \n",
       "9554            False                   False  ...           False   \n",
       "4662            False                   False  ...           False   \n",
       "7284            False                   False  ...           False   \n",
       "\n",
       "      Category_TRAVEL_AND_LOCAL  Category_VIDEO_PLAYERS  Category_WEATHER  \\\n",
       "1846                      False                   False             False   \n",
       "32                        False                   False             False   \n",
       "9554                      False                   False             False   \n",
       "4662                      False                   False             False   \n",
       "7284                      False                   False             False   \n",
       "\n",
       "      Type_Paid  Content Rating_Everyone  Content Rating_Everyone 10+  \\\n",
       "1846      False                     True                        False   \n",
       "32        False                     True                        False   \n",
       "9554       True                    False                        False   \n",
       "4662      False                     True                        False   \n",
       "7284      False                     True                        False   \n",
       "\n",
       "      Content Rating_Mature 17+  Content Rating_Teen  Content Rating_Unrated  \n",
       "1846                      False                False                   False  \n",
       "32                        False                False                   False  \n",
       "9554                      False                 True                   False  \n",
       "4662                      False                False                   False  \n",
       "7284                      False                False                   False  \n",
       "\n",
       "[5 rows x 42 columns]"
      ]
     },
     "execution_count": 266,
     "metadata": {},
     "output_type": "execute_result"
    }
   ],
   "source": [
    "x_train.head()"
   ]
  },
  {
   "cell_type": "code",
   "execution_count": 267,
   "id": "082dee84",
   "metadata": {
    "ExecuteTime": {
     "end_time": "2023-11-30T06:35:15.607902Z",
     "start_time": "2023-11-30T06:35:15.578091Z"
    }
   },
   "outputs": [
    {
     "data": {
      "text/html": [
       "<div>\n",
       "<style scoped>\n",
       "    .dataframe tbody tr th:only-of-type {\n",
       "        vertical-align: middle;\n",
       "    }\n",
       "\n",
       "    .dataframe tbody tr th {\n",
       "        vertical-align: top;\n",
       "    }\n",
       "\n",
       "    .dataframe thead th {\n",
       "        text-align: right;\n",
       "    }\n",
       "</style>\n",
       "<table border=\"1\" class=\"dataframe\">\n",
       "  <thead>\n",
       "    <tr style=\"text-align: right;\">\n",
       "      <th></th>\n",
       "      <th>Reviews</th>\n",
       "      <th>Size</th>\n",
       "      <th>Installs</th>\n",
       "      <th>Price</th>\n",
       "      <th>Category_AUTO_AND_VEHICLES</th>\n",
       "      <th>Category_BEAUTY</th>\n",
       "      <th>Category_BOOKS_AND_REFERENCE</th>\n",
       "      <th>Category_BUSINESS</th>\n",
       "      <th>Category_COMICS</th>\n",
       "      <th>Category_COMMUNICATION</th>\n",
       "      <th>...</th>\n",
       "      <th>Category_TOOLS</th>\n",
       "      <th>Category_TRAVEL_AND_LOCAL</th>\n",
       "      <th>Category_VIDEO_PLAYERS</th>\n",
       "      <th>Category_WEATHER</th>\n",
       "      <th>Type_Paid</th>\n",
       "      <th>Content Rating_Everyone</th>\n",
       "      <th>Content Rating_Everyone 10+</th>\n",
       "      <th>Content Rating_Mature 17+</th>\n",
       "      <th>Content Rating_Teen</th>\n",
       "      <th>Content Rating_Unrated</th>\n",
       "    </tr>\n",
       "  </thead>\n",
       "  <tbody>\n",
       "    <tr>\n",
       "      <th>5441</th>\n",
       "      <td>-0.820394</td>\n",
       "      <td>0.325479</td>\n",
       "      <td>-0.176755</td>\n",
       "      <td>-0.058592</td>\n",
       "      <td>False</td>\n",
       "      <td>False</td>\n",
       "      <td>False</td>\n",
       "      <td>False</td>\n",
       "      <td>False</td>\n",
       "      <td>False</td>\n",
       "      <td>...</td>\n",
       "      <td>False</td>\n",
       "      <td>False</td>\n",
       "      <td>False</td>\n",
       "      <td>False</td>\n",
       "      <td>False</td>\n",
       "      <td>True</td>\n",
       "      <td>False</td>\n",
       "      <td>False</td>\n",
       "      <td>False</td>\n",
       "      <td>False</td>\n",
       "    </tr>\n",
       "    <tr>\n",
       "      <th>9560</th>\n",
       "      <td>-0.703216</td>\n",
       "      <td>-0.972846</td>\n",
       "      <td>-0.176871</td>\n",
       "      <td>0.234946</td>\n",
       "      <td>False</td>\n",
       "      <td>False</td>\n",
       "      <td>False</td>\n",
       "      <td>False</td>\n",
       "      <td>False</td>\n",
       "      <td>False</td>\n",
       "      <td>...</td>\n",
       "      <td>True</td>\n",
       "      <td>False</td>\n",
       "      <td>False</td>\n",
       "      <td>False</td>\n",
       "      <td>True</td>\n",
       "      <td>True</td>\n",
       "      <td>False</td>\n",
       "      <td>False</td>\n",
       "      <td>False</td>\n",
       "      <td>False</td>\n",
       "    </tr>\n",
       "    <tr>\n",
       "      <th>9824</th>\n",
       "      <td>-1.346466</td>\n",
       "      <td>0.151382</td>\n",
       "      <td>-0.176964</td>\n",
       "      <td>-0.058592</td>\n",
       "      <td>False</td>\n",
       "      <td>False</td>\n",
       "      <td>False</td>\n",
       "      <td>False</td>\n",
       "      <td>False</td>\n",
       "      <td>False</td>\n",
       "      <td>...</td>\n",
       "      <td>False</td>\n",
       "      <td>False</td>\n",
       "      <td>False</td>\n",
       "      <td>False</td>\n",
       "      <td>False</td>\n",
       "      <td>True</td>\n",
       "      <td>False</td>\n",
       "      <td>False</td>\n",
       "      <td>False</td>\n",
       "      <td>False</td>\n",
       "    </tr>\n",
       "    <tr>\n",
       "      <th>3984</th>\n",
       "      <td>0.517818</td>\n",
       "      <td>-0.605937</td>\n",
       "      <td>-0.153767</td>\n",
       "      <td>-0.058592</td>\n",
       "      <td>False</td>\n",
       "      <td>False</td>\n",
       "      <td>False</td>\n",
       "      <td>False</td>\n",
       "      <td>False</td>\n",
       "      <td>False</td>\n",
       "      <td>...</td>\n",
       "      <td>False</td>\n",
       "      <td>False</td>\n",
       "      <td>False</td>\n",
       "      <td>False</td>\n",
       "      <td>False</td>\n",
       "      <td>True</td>\n",
       "      <td>False</td>\n",
       "      <td>False</td>\n",
       "      <td>False</td>\n",
       "      <td>False</td>\n",
       "    </tr>\n",
       "    <tr>\n",
       "      <th>1453</th>\n",
       "      <td>2.524042</td>\n",
       "      <td>3.241595</td>\n",
       "      <td>2.145077</td>\n",
       "      <td>-0.058592</td>\n",
       "      <td>False</td>\n",
       "      <td>False</td>\n",
       "      <td>False</td>\n",
       "      <td>False</td>\n",
       "      <td>False</td>\n",
       "      <td>False</td>\n",
       "      <td>...</td>\n",
       "      <td>False</td>\n",
       "      <td>False</td>\n",
       "      <td>False</td>\n",
       "      <td>False</td>\n",
       "      <td>False</td>\n",
       "      <td>False</td>\n",
       "      <td>True</td>\n",
       "      <td>False</td>\n",
       "      <td>False</td>\n",
       "      <td>False</td>\n",
       "    </tr>\n",
       "  </tbody>\n",
       "</table>\n",
       "<p>5 rows × 42 columns</p>\n",
       "</div>"
      ],
      "text/plain": [
       "       Reviews      Size  Installs     Price  Category_AUTO_AND_VEHICLES  \\\n",
       "5441 -0.820394  0.325479 -0.176755 -0.058592                       False   \n",
       "9560 -0.703216 -0.972846 -0.176871  0.234946                       False   \n",
       "9824 -1.346466  0.151382 -0.176964 -0.058592                       False   \n",
       "3984  0.517818 -0.605937 -0.153767 -0.058592                       False   \n",
       "1453  2.524042  3.241595  2.145077 -0.058592                       False   \n",
       "\n",
       "      Category_BEAUTY  Category_BOOKS_AND_REFERENCE  Category_BUSINESS  \\\n",
       "5441            False                         False              False   \n",
       "9560            False                         False              False   \n",
       "9824            False                         False              False   \n",
       "3984            False                         False              False   \n",
       "1453            False                         False              False   \n",
       "\n",
       "      Category_COMICS  Category_COMMUNICATION  ...  Category_TOOLS  \\\n",
       "5441            False                   False  ...           False   \n",
       "9560            False                   False  ...            True   \n",
       "9824            False                   False  ...           False   \n",
       "3984            False                   False  ...           False   \n",
       "1453            False                   False  ...           False   \n",
       "\n",
       "      Category_TRAVEL_AND_LOCAL  Category_VIDEO_PLAYERS  Category_WEATHER  \\\n",
       "5441                      False                   False             False   \n",
       "9560                      False                   False             False   \n",
       "9824                      False                   False             False   \n",
       "3984                      False                   False             False   \n",
       "1453                      False                   False             False   \n",
       "\n",
       "      Type_Paid  Content Rating_Everyone  Content Rating_Everyone 10+  \\\n",
       "5441      False                     True                        False   \n",
       "9560       True                     True                        False   \n",
       "9824      False                     True                        False   \n",
       "3984      False                     True                        False   \n",
       "1453      False                    False                         True   \n",
       "\n",
       "      Content Rating_Mature 17+  Content Rating_Teen  Content Rating_Unrated  \n",
       "5441                      False                False                   False  \n",
       "9560                      False                False                   False  \n",
       "9824                      False                False                   False  \n",
       "3984                      False                False                   False  \n",
       "1453                      False                False                   False  \n",
       "\n",
       "[5 rows x 42 columns]"
      ]
     },
     "execution_count": 267,
     "metadata": {},
     "output_type": "execute_result"
    }
   ],
   "source": [
    "x_test.head()"
   ]
  },
  {
   "cell_type": "code",
   "execution_count": 279,
   "id": "bf856fb0",
   "metadata": {
    "ExecuteTime": {
     "end_time": "2023-11-30T07:25:54.780238Z",
     "start_time": "2023-11-30T07:25:54.746765Z"
    }
   },
   "outputs": [
    {
     "data": {
      "text/plain": [
       "Rating_category_low\n",
       "False    0.888919\n",
       "True     0.111081\n",
       "Name: proportion, dtype: float64"
      ]
     },
     "execution_count": 279,
     "metadata": {},
     "output_type": "execute_result"
    }
   ],
   "source": [
    "y.value_counts(normalize=True)\n",
    "#we can clearly say that the data is imbalanced so we have to make it balance."
   ]
  },
  {
   "cell_type": "code",
   "execution_count": 280,
   "id": "6ea6f231",
   "metadata": {
    "ExecuteTime": {
     "end_time": "2023-11-30T07:30:17.209349Z",
     "start_time": "2023-11-30T07:30:13.651121Z"
    }
   },
   "outputs": [],
   "source": [
    "logit=LogisticRegression()\n",
    "logit = LogisticRegression(solver='newton-cg', n_jobs=-1,class_weight={0:0.111,1:0.889})\n",
    "model=logit.fit(x_train, y_train)# For balancing we have to add extra tuning paramaeter 'class_weight'"
   ]
  },
  {
   "cell_type": "code",
   "execution_count": 281,
   "id": "aba3df0e",
   "metadata": {
    "ExecuteTime": {
     "end_time": "2023-11-30T07:30:18.792561Z",
     "start_time": "2023-11-30T07:30:18.773345Z"
    }
   },
   "outputs": [],
   "source": [
    "pred_train = logit.predict(x_train)\n",
    "pred_test = logit.predict(x_test)"
   ]
  },
  {
   "cell_type": "code",
   "execution_count": 282,
   "id": "f362e052",
   "metadata": {
    "ExecuteTime": {
     "end_time": "2023-11-30T07:30:20.215958Z",
     "start_time": "2023-11-30T07:30:20.167087Z"
    }
   },
   "outputs": [
    {
     "name": "stdout",
     "output_type": "stream",
     "text": [
      "              precision    recall  f1-score   support\n",
      "\n",
      "       False       0.95      0.65      0.78      4615\n",
      "        True       0.21      0.74      0.33       577\n",
      "\n",
      "    accuracy                           0.66      5192\n",
      "   macro avg       0.58      0.70      0.55      5192\n",
      "weighted avg       0.87      0.66      0.73      5192\n",
      "\n"
     ]
    }
   ],
   "source": [
    "print(classification_report(y_train, pred_train))"
   ]
  },
  {
   "cell_type": "code",
   "execution_count": 283,
   "id": "94f92c7a",
   "metadata": {
    "ExecuteTime": {
     "end_time": "2023-11-30T07:30:22.152523Z",
     "start_time": "2023-11-30T07:30:22.071936Z"
    }
   },
   "outputs": [
    {
     "name": "stdout",
     "output_type": "stream",
     "text": [
      "              precision    recall  f1-score   support\n",
      "\n",
      "       False       0.95      0.65      0.77      1979\n",
      "        True       0.20      0.72      0.32       247\n",
      "\n",
      "    accuracy                           0.66      2226\n",
      "   macro avg       0.58      0.68      0.54      2226\n",
      "weighted avg       0.87      0.66      0.72      2226\n",
      "\n"
     ]
    }
   ],
   "source": [
    "print(classification_report(y_test, pred_test))"
   ]
  },
  {
   "cell_type": "code",
   "execution_count": null,
   "id": "a0f47502",
   "metadata": {},
   "outputs": [],
   "source": []
  }
 ],
 "metadata": {
  "kernelspec": {
   "display_name": "Python 3 (ipykernel)",
   "language": "python",
   "name": "python3"
  },
  "language_info": {
   "codemirror_mode": {
    "name": "ipython",
    "version": 3
   },
   "file_extension": ".py",
   "mimetype": "text/x-python",
   "name": "python",
   "nbconvert_exporter": "python",
   "pygments_lexer": "ipython3",
   "version": "3.11.5"
  },
  "varInspector": {
   "cols": {
    "lenName": 16,
    "lenType": 16,
    "lenVar": 40
   },
   "kernels_config": {
    "python": {
     "delete_cmd_postfix": "",
     "delete_cmd_prefix": "del ",
     "library": "var_list.py",
     "varRefreshCmd": "print(var_dic_list())"
    },
    "r": {
     "delete_cmd_postfix": ") ",
     "delete_cmd_prefix": "rm(",
     "library": "var_list.r",
     "varRefreshCmd": "cat(var_dic_list()) "
    }
   },
   "types_to_exclude": [
    "module",
    "function",
    "builtin_function_or_method",
    "instance",
    "_Feature"
   ],
   "window_display": false
  }
 },
 "nbformat": 4,
 "nbformat_minor": 5
}
